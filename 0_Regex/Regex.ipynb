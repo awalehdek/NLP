{
 "cells": [
  {
   "cell_type": "code",
   "execution_count": 2,
   "id": "a93b5e56-2f3f-4297-921f-b92a6a106317",
   "metadata": {},
   "outputs": [],
   "source": [
    "import re"
   ]
  },
  {
   "cell_type": "code",
   "execution_count": 3,
   "id": "1ccdeec5-8b93-41a5-ad83-94f98a073c0b",
   "metadata": {},
   "outputs": [
    {
     "name": "stdout",
     "output_type": "stream",
     "text": [
      "['Hello', 'world', 'Let', 's', 'learn', 'NLP']\n"
     ]
    }
   ],
   "source": [
    "# Tokenization: Splitting text into words or sentences\n",
    "text = \"Hello world! Let's learn NLP.\"\n",
    "tokens = re.findall(r'\\b\\w+\\b', text)\n",
    "print(tokens)\n"
   ]
  },
  {
   "cell_type": "code",
   "execution_count": 4,
   "id": "c1dc3593-450e-4b04-abf9-bd9b792e14e0",
   "metadata": {},
   "outputs": [
    {
     "name": "stdout",
     "output_type": "stream",
     "text": [
      "Hello world NLP is awesome\n"
     ]
    }
   ],
   "source": [
    "# Removing special characters or punctuation\n",
    "text = \"Hello, world! NLP is awesome.\"\n",
    "clean_text = re.sub(r'[^\\w\\s]', '', text)\n",
    "print(clean_text)\n",
    "\n"
   ]
  },
  {
   "cell_type": "code",
   "execution_count": 5,
   "id": "5e61941f-b262-41db-8337-ce5f443ee099",
   "metadata": {},
   "outputs": [
    {
     "name": "stdout",
     "output_type": "stream",
     "text": [
      "['support@example.com', 'sales@company.org']\n"
     ]
    }
   ],
   "source": [
    "# Extracting email addresses from text\n",
    "text = \"Contact us at support@example.com or sales@company.org.\"\n",
    "emails = re.findall(r'\\b[A-Za-z0-9._%+-]+@[A-Za-z0-9.-]+\\.[A-Z|a-z]{2,}\\b', text)\n",
    "print(emails)"
   ]
  },
  {
   "cell_type": "code",
   "execution_count": 6,
   "id": "0c73383e-0b5b-48cd-a1eb-a89b83e74d07",
   "metadata": {},
   "outputs": [
    {
     "name": "stdout",
     "output_type": "stream",
     "text": [
      "['2024-08-24', '24/08/2024', 'August 24, 2024']\n"
     ]
    }
   ],
   "source": [
    "#Extracting dates in various formats\n",
    "\n",
    "text = \"Important dates: 2024-08-24, 24/08/2024, August 24, 2024.\"\n",
    "dates = re.findall(r'\\b\\d{4}[-/]\\d{2}[-/]\\d{2}\\b|\\b\\d{2}[-/]\\d{2}[-/]\\d{4}\\b|\\b[A-Z][a-z]+\\s\\d{1,2},\\s\\d{4}\\b', text)\n",
    "print(dates)"
   ]
  },
  {
   "cell_type": "code",
   "execution_count": 7,
   "id": "2d33a898-98bf-4ac7-81c9-91a122e16ae6",
   "metadata": {},
   "outputs": [
    {
     "name": "stdout",
     "output_type": "stream",
     "text": [
      "['#AI', '#MachineLearning']\n"
     ]
    }
   ],
   "source": [
    "#Finding hashtags or mentions in social media text\n",
    "text = \"Follow the latest trends! #AI #MachineLearning\"\n",
    "hashtags = re.findall(r'#\\w+', text)\n",
    "print(hashtags)"
   ]
  },
  {
   "cell_type": "code",
   "execution_count": 8,
   "id": "ce3a7953-f953-4d07-b4d3-797b1283c57f",
   "metadata": {},
   "outputs": [
    {
     "name": "stdout",
     "output_type": "stream",
     "text": [
      "This is a text with extra spaces.\n"
     ]
    }
   ],
   "source": [
    "#Removing extra whitespace or tabs\n",
    "\n",
    "text = \"This   is    a    text   with    extra  spaces.\"\n",
    "clean_text = re.sub(r'\\s+', ' ', text).strip()\n",
    "print(clean_text)"
   ]
  },
  {
   "cell_type": "code",
   "execution_count": 9,
   "id": "e50ff49c-40dd-4ca1-8a55-46e598dfb0e8",
   "metadata": {},
   "outputs": [
    {
     "name": "stdout",
     "output_type": "stream",
     "text": [
      "['https://www.example.com', 'http://www.test.com.']\n"
     ]
    }
   ],
   "source": [
    "#Extracting URLs from text\n",
    "text = \"Check out https://www.example.com and http://www.test.com.\"\n",
    "urls = re.findall(r'(https?://[^\\s]+)', text)\n",
    "print(urls)"
   ]
  },
  {
   "cell_type": "code",
   "execution_count": 10,
   "id": "839c86ce-5635-4cdc-b3f4-543d22904a6d",
   "metadata": {},
   "outputs": [
    {
     "name": "stdout",
     "output_type": "stream",
     "text": [
      "['(123) 456-7890', '123-456-7890']\n"
     ]
    }
   ],
   "source": [
    "# Identifying phone numbers\n",
    "text = \"Call us at (123) 456-7890 or 123-456-7890.\"\n",
    "phone_numbers = re.findall(r'\\(?\\d{3}\\)?[-.\\s]?\\d{3}[-.\\s]?\\d{4}', text)\n",
    "print(phone_numbers)"
   ]
  },
  {
   "cell_type": "code",
   "execution_count": 11,
   "id": "d4444aa7-d686-4794-8546-90f6c3ebdbb4",
   "metadata": {},
   "outputs": [
    {
     "name": "stdout",
     "output_type": "stream",
     "text": [
      "['ORD-1234-5678']\n"
     ]
    }
   ],
   "source": [
    " #Detecting sequences like dates, times, or IDs\n",
    "text = \"Your order ID is ORD-1234-5678.\"\n",
    "order_id = re.findall(r'ORD-\\d{4}-\\d{4}', text)\n",
    "print(order_id)"
   ]
  },
  {
   "cell_type": "code",
   "execution_count": 12,
   "id": "c4da5835-fb4e-4243-95f3-277ddfd07302",
   "metadata": {},
   "outputs": [
    {
     "name": "stdout",
     "output_type": "stream",
     "text": [
      "['is']\n"
     ]
    }
   ],
   "source": [
    "# 10. Detecting repeated patterns\n",
    "\n",
    "text = \"This is is a test.\"\n",
    "repeated_words = re.findall(r'\\b(\\w+)\\s+\\1\\b', text)\n",
    "print(repeated_words)"
   ]
  },
  {
   "cell_type": "code",
   "execution_count": 13,
   "id": "683825ac-e234-47cd-a5f7-fb8ab15ade6b",
   "metadata": {},
   "outputs": [
    {
     "name": "stdout",
     "output_type": "stream",
     "text": [
      "Found stop words: ['is', 'a', 'the', 'and', 'a']\n"
     ]
    }
   ],
   "source": [
    "# List of stop words\n",
    "stop_words = [\"the\", \"is\", \"in\", \"and\", \"a\", \"an\", \"to\", \"on\"]\n",
    "\n",
    "# Create regex pattern from stop words list\n",
    "stop_words_pattern = r'\\b(?:' + '|'.join(re.escape(word) for word in stop_words) + r')\\b'\n",
    "\n",
    "# Example text\n",
    "text = \"This is a simple text containing stop words like the and a.\"\n",
    "\n",
    "# Find all stop words in the text\n",
    "found_stop_words = re.findall(stop_words_pattern, text, flags=re.IGNORECASE)\n",
    "\n",
    "print(\"Found stop words:\", found_stop_words)"
   ]
  },
  {
   "cell_type": "code",
   "execution_count": null,
   "id": "686ee994-0e73-4be3-b39d-09ff7f56730f",
   "metadata": {},
   "outputs": [],
   "source": []
  }
 ],
 "metadata": {
  "kernelspec": {
   "display_name": "Python 3 (ipykernel)",
   "language": "python",
   "name": "python3"
  },
  "language_info": {
   "codemirror_mode": {
    "name": "ipython",
    "version": 3
   },
   "file_extension": ".py",
   "mimetype": "text/x-python",
   "name": "python",
   "nbconvert_exporter": "python",
   "pygments_lexer": "ipython3",
   "version": "3.10.12"
  }
 },
 "nbformat": 4,
 "nbformat_minor": 5
}
