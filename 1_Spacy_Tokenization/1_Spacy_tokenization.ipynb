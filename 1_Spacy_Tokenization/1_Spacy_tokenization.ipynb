{
 "cells": [
  {
   "cell_type": "code",
   "execution_count": 1,
   "id": "6105bf8c-7f86-4ea8-9068-301341c59a21",
   "metadata": {},
   "outputs": [],
   "source": [
    "#!pip install spacy"
   ]
  },
  {
   "cell_type": "code",
   "execution_count": 2,
   "id": "067cdeef-461b-4325-bc53-77423180ce1b",
   "metadata": {},
   "outputs": [],
   "source": [
    "#!python -m spacy download en_core_web_sm"
   ]
  },
  {
   "cell_type": "code",
   "execution_count": null,
   "id": "7a9e4c52-ad28-43ef-85e9-710d615b533b",
   "metadata": {},
   "outputs": [],
   "source": []
  },
  {
   "cell_type": "code",
   "execution_count": 3,
   "id": "4775ceb7-cd03-4f57-aa7a-90e253d64105",
   "metadata": {},
   "outputs": [],
   "source": [
    "import spacy"
   ]
  },
  {
   "cell_type": "code",
   "execution_count": 4,
   "id": "5263df55-2c5c-44f8-9205-a05b341e0cfa",
   "metadata": {},
   "outputs": [
    {
     "name": "stdout",
     "output_type": "stream",
     "text": [
      "\"\n",
      "Let\n",
      "'s\n",
      "go\n",
      "to\n",
      "Saint\n",
      "Claire\n",
      "!\n",
      "\"\n"
     ]
    }
   ],
   "source": [
    "# Load the small English model\n",
    "#nlp = spacy.load(\"en_core_web_sm\")\n",
    "nlp = spacy.blank(\"en\")\n",
    "\n",
    "# Process the text\n",
    "\n",
    "\n",
    "\n",
    "doc = nlp ('''\"Let's go to Saint Claire!\"''')\n",
    "for token in doc:\n",
    "  print(token)"
   ]
  },
  {
   "cell_type": "code",
   "execution_count": 5,
   "id": "4feaf433-1cbb-4f51-9e2c-9f0887bdac9e",
   "metadata": {},
   "outputs": [
    {
     "name": "stdout",
     "output_type": "stream",
     "text": [
      "Mr.\n",
      "Mike\n",
      "travels\n",
      "abroad\n",
      "for\n",
      "the\n",
      "first\n",
      "time\n",
      ".\n",
      "He\n",
      "likes\n",
      "Mediteraneen\n",
      "food\n",
      ".\n"
     ]
    }
   ],
   "source": [
    "text = \"Mr. Mike travels abroad for the first time. He likes Mediteraneen food.\"\n",
    "doc1 = nlp(text)\n",
    "for token in doc1:\n",
    "  print(token)\n"
   ]
  },
  {
   "cell_type": "code",
   "execution_count": 6,
   "id": "c2aa0b14-e050-4883-bcd7-a01875ecd76b",
   "metadata": {},
   "outputs": [
    {
     "data": {
      "text/plain": [
       "spacy.lang.en.English"
      ]
     },
     "execution_count": 6,
     "metadata": {},
     "output_type": "execute_result"
    }
   ],
   "source": [
    "# get the type nlp\n",
    "type(nlp)"
   ]
  },
  {
   "cell_type": "code",
   "execution_count": 7,
   "id": "24a99222-737f-446d-b24c-22219dade0c9",
   "metadata": {},
   "outputs": [
    {
     "data": {
      "text/plain": [
       "spacy.tokens.doc.Doc"
      ]
     },
     "execution_count": 7,
     "metadata": {},
     "output_type": "execute_result"
    }
   ],
   "source": [
    "# get the type document\n",
    "type(doc1)"
   ]
  },
  {
   "cell_type": "code",
   "execution_count": 8,
   "id": "6028c3da-d60c-4bce-afc0-73990547a0e9",
   "metadata": {},
   "outputs": [
    {
     "data": {
      "text/plain": [
       "Matt"
      ]
     },
     "execution_count": 8,
     "metadata": {},
     "output_type": "execute_result"
    }
   ],
   "source": [
    "text_1 = \"Matt makes two hundred $ with 1 ticket lottery.\"\n",
    "doc3 = nlp(text_1)\n",
    "token0 = doc3[0]\n",
    "token0"
   ]
  },
  {
   "cell_type": "code",
   "execution_count": 9,
   "id": "8198c734-35d0-490e-94a6-6625949b2fa4",
   "metadata": {},
   "outputs": [
    {
     "data": {
      "text/plain": [
       "['_',\n",
       " '__bytes__',\n",
       " '__class__',\n",
       " '__delattr__',\n",
       " '__dir__',\n",
       " '__doc__',\n",
       " '__eq__',\n",
       " '__format__',\n",
       " '__ge__',\n",
       " '__getattribute__',\n",
       " '__gt__',\n",
       " '__hash__',\n",
       " '__init__',\n",
       " '__init_subclass__',\n",
       " '__le__',\n",
       " '__len__',\n",
       " '__lt__',\n",
       " '__ne__',\n",
       " '__new__',\n",
       " '__pyx_vtable__',\n",
       " '__reduce__',\n",
       " '__reduce_ex__',\n",
       " '__repr__',\n",
       " '__setattr__',\n",
       " '__sizeof__',\n",
       " '__str__',\n",
       " '__subclasshook__',\n",
       " '__unicode__',\n",
       " 'ancestors',\n",
       " 'check_flag',\n",
       " 'children',\n",
       " 'cluster',\n",
       " 'conjuncts',\n",
       " 'dep',\n",
       " 'dep_',\n",
       " 'doc',\n",
       " 'ent_id',\n",
       " 'ent_id_',\n",
       " 'ent_iob',\n",
       " 'ent_iob_',\n",
       " 'ent_kb_id',\n",
       " 'ent_kb_id_',\n",
       " 'ent_type',\n",
       " 'ent_type_',\n",
       " 'get_extension',\n",
       " 'has_dep',\n",
       " 'has_extension',\n",
       " 'has_head',\n",
       " 'has_morph',\n",
       " 'has_vector',\n",
       " 'head',\n",
       " 'i',\n",
       " 'idx',\n",
       " 'iob_strings',\n",
       " 'is_alpha',\n",
       " 'is_ancestor',\n",
       " 'is_ascii',\n",
       " 'is_bracket',\n",
       " 'is_currency',\n",
       " 'is_digit',\n",
       " 'is_left_punct',\n",
       " 'is_lower',\n",
       " 'is_oov',\n",
       " 'is_punct',\n",
       " 'is_quote',\n",
       " 'is_right_punct',\n",
       " 'is_sent_end',\n",
       " 'is_sent_start',\n",
       " 'is_space',\n",
       " 'is_stop',\n",
       " 'is_title',\n",
       " 'is_upper',\n",
       " 'lang',\n",
       " 'lang_',\n",
       " 'left_edge',\n",
       " 'lefts',\n",
       " 'lemma',\n",
       " 'lemma_',\n",
       " 'lex',\n",
       " 'lex_id',\n",
       " 'like_email',\n",
       " 'like_num',\n",
       " 'like_url',\n",
       " 'lower',\n",
       " 'lower_',\n",
       " 'morph',\n",
       " 'n_lefts',\n",
       " 'n_rights',\n",
       " 'nbor',\n",
       " 'norm',\n",
       " 'norm_',\n",
       " 'orth',\n",
       " 'orth_',\n",
       " 'pos',\n",
       " 'pos_',\n",
       " 'prefix',\n",
       " 'prefix_',\n",
       " 'prob',\n",
       " 'rank',\n",
       " 'remove_extension',\n",
       " 'right_edge',\n",
       " 'rights',\n",
       " 'sent',\n",
       " 'sent_start',\n",
       " 'sentiment',\n",
       " 'set_extension',\n",
       " 'set_morph',\n",
       " 'shape',\n",
       " 'shape_',\n",
       " 'similarity',\n",
       " 'subtree',\n",
       " 'suffix',\n",
       " 'suffix_',\n",
       " 'tag',\n",
       " 'tag_',\n",
       " 'tensor',\n",
       " 'text',\n",
       " 'text_with_ws',\n",
       " 'vector',\n",
       " 'vector_norm',\n",
       " 'vocab',\n",
       " 'whitespace_']"
      ]
     },
     "execution_count": 9,
     "metadata": {},
     "output_type": "execute_result"
    }
   ],
   "source": [
    "# check dirrectories\n",
    "dir(token0)"
   ]
  },
  {
   "cell_type": "code",
   "execution_count": 10,
   "id": "e6dacd75-d100-4115-8fee-9ed7924b105a",
   "metadata": {},
   "outputs": [
    {
     "name": "stdout",
     "output_type": "stream",
     "text": [
      "$ : True\n"
     ]
    }
   ],
   "source": [
    "# use the library to check if $ is currency\n",
    "token1 =doc3[4]\n",
    "print(token1, \":\", token1.is_currency)"
   ]
  },
  {
   "cell_type": "code",
   "execution_count": 11,
   "id": "97a0e7c8-9215-4c45-a089-1426dc4b8083",
   "metadata": {},
   "outputs": [
    {
     "name": "stdout",
     "output_type": "stream",
     "text": [
      "1 : True\n"
     ]
    }
   ],
   "source": [
    "# use the library to check if it is a number\n",
    "token2 =doc3[6]\n",
    "print(token2, \":\",token2.like_num)"
   ]
  },
  {
   "cell_type": "code",
   "execution_count": 12,
   "id": "763fd899-357a-46c9-8550-bd054f1d1c95",
   "metadata": {},
   "outputs": [
    {
     "name": "stdout",
     "output_type": "stream",
     "text": [
      "Matt -->index:  0 \t is_alpha: True \t is_punct: False \t like_num: False \t is_currency: False\n",
      "makes -->index:  1 \t is_alpha: True \t is_punct: False \t like_num: False \t is_currency: False\n",
      "two -->index:  2 \t is_alpha: True \t is_punct: False \t like_num: True \t is_currency: False\n",
      "hundred -->index:  3 \t is_alpha: True \t is_punct: False \t like_num: True \t is_currency: False\n",
      "$ -->index:  4 \t is_alpha: False \t is_punct: False \t like_num: False \t is_currency: True\n",
      "with -->index:  5 \t is_alpha: True \t is_punct: False \t like_num: False \t is_currency: False\n",
      "1 -->index:  6 \t is_alpha: False \t is_punct: False \t like_num: True \t is_currency: False\n",
      "ticket -->index:  7 \t is_alpha: True \t is_punct: False \t like_num: False \t is_currency: False\n",
      "lottery -->index:  8 \t is_alpha: True \t is_punct: False \t like_num: False \t is_currency: False\n",
      ". -->index:  9 \t is_alpha: False \t is_punct: True \t like_num: False \t is_currency: False\n"
     ]
    }
   ],
   "source": [
    "# Checking built-in function\n",
    "for token in doc3:\n",
    "  print(token, \"-->index: \", token.i,\n",
    "        \"\\t is_alpha:\", token.is_alpha,\n",
    "        \"\\t is_punct:\", token.is_punct,\n",
    "        \"\\t like_num:\", token.like_num,\n",
    "        \"\\t is_currency:\", token.is_currency)"
   ]
  },
  {
   "cell_type": "code",
   "execution_count": 13,
   "id": "a48b7a04-c909-4580-b2f2-df63a7a86f8d",
   "metadata": {},
   "outputs": [
    {
     "ename": "ValueError",
     "evalue": "[E030] Sentence boundaries unset. You can add the 'sentencizer' component to the pipeline with: `nlp.add_pipe('sentencizer')`. Alternatively, add the dependency parser or sentence recognizer, or set sentence boundaries by setting `doc[i].is_sent_start`.",
     "output_type": "error",
     "traceback": [
      "\u001b[0;31m---------------------------------------------------------------------------\u001b[0m",
      "\u001b[0;31mValueError\u001b[0m                                Traceback (most recent call last)",
      "Cell \u001b[0;32mIn[13], line 3\u001b[0m\n\u001b[1;32m      1\u001b[0m \u001b[38;5;66;03m# seperate sentence into array rows\u001b[39;00m\n\u001b[1;32m      2\u001b[0m doc4 \u001b[38;5;241m=\u001b[39m nlp(\u001b[38;5;124m\"\u001b[39m\u001b[38;5;124mMr. Mike travels abroad for the first time. He likes Mediteraneen food.\u001b[39m\u001b[38;5;124m\"\u001b[39m)\n\u001b[0;32m----> 3\u001b[0m \u001b[38;5;28;01mfor\u001b[39;00m token \u001b[38;5;129;01min\u001b[39;00m doc4\u001b[38;5;241m.\u001b[39msents:\n\u001b[1;32m      4\u001b[0m   \u001b[38;5;28mprint\u001b[39m(token)\n",
      "File \u001b[0;32m~/.local/lib/python3.10/site-packages/spacy/tokens/doc.pyx:926\u001b[0m, in \u001b[0;36msents\u001b[0;34m()\u001b[0m\n",
      "\u001b[0;31mValueError\u001b[0m: [E030] Sentence boundaries unset. You can add the 'sentencizer' component to the pipeline with: `nlp.add_pipe('sentencizer')`. Alternatively, add the dependency parser or sentence recognizer, or set sentence boundaries by setting `doc[i].is_sent_start`."
     ]
    }
   ],
   "source": [
    "# seperate sentence into array rows\n",
    "doc4 = nlp(\"Mr. Mike travels abroad for the first time. He likes Mediteraneen food.\")\n",
    "for token in doc4.sents:\n",
    "  print(token)"
   ]
  },
  {
   "cell_type": "code",
   "execution_count": null,
   "id": "f844cef5-29d9-4672-8afe-fc38ef051256",
   "metadata": {},
   "outputs": [],
   "source": []
  }
 ],
 "metadata": {
  "kernelspec": {
   "display_name": "Python 3 (ipykernel)",
   "language": "python",
   "name": "python3"
  },
  "language_info": {
   "codemirror_mode": {
    "name": "ipython",
    "version": 3
   },
   "file_extension": ".py",
   "mimetype": "text/x-python",
   "name": "python",
   "nbconvert_exporter": "python",
   "pygments_lexer": "ipython3",
   "version": "3.10.12"
  }
 },
 "nbformat": 4,
 "nbformat_minor": 5
}
