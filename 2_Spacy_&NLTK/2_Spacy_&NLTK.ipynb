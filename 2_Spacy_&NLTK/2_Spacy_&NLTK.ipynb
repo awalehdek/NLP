{
 "cells": [
  {
   "cell_type": "code",
   "execution_count": 1,
   "id": "177487f6-23d3-445d-bc30-0c5f719c39e5",
   "metadata": {},
   "outputs": [],
   "source": [
    "import spacy"
   ]
  },
  {
   "cell_type": "code",
   "execution_count": 2,
   "id": "504bf07c-013f-40bd-8e96-6eea2b14333a",
   "metadata": {},
   "outputs": [],
   "source": [
    "# english word\n",
    "nlp = spacy.load(\"en_core_web_sm\")"
   ]
  },
  {
   "cell_type": "code",
   "execution_count": 3,
   "id": "94816124-704a-4bfe-ac06-37ed19254c77",
   "metadata": {},
   "outputs": [],
   "source": [
    "doc = nlp(\"Mr. Mike travels abroad for the first time. He likes Mediteraneen food.\")"
   ]
  },
  {
   "cell_type": "code",
   "execution_count": 4,
   "id": "6b0008e6-66c6-44ac-abdd-176670e00a11",
   "metadata": {},
   "outputs": [
    {
     "name": "stdout",
     "output_type": "stream",
     "text": [
      "Mr. Mike travels abroad for the first time.\n",
      "He likes Mediteraneen food.\n"
     ]
    }
   ],
   "source": [
    "# sentence tokenazation\n",
    "for sentence in doc.sents:\n",
    "  print(sentence)"
   ]
  },
  {
   "cell_type": "code",
   "execution_count": 5,
   "id": "bb9d275a-fde9-4a27-9272-e62fdce0a8aa",
   "metadata": {},
   "outputs": [
    {
     "name": "stdout",
     "output_type": "stream",
     "text": [
      "Mr.\n",
      "Mike\n",
      "travels\n",
      "abroad\n",
      "for\n",
      "the\n",
      "first\n",
      "time\n",
      ".\n",
      "He\n",
      "likes\n",
      "Mediteraneen\n",
      "food\n",
      ".\n"
     ]
    }
   ],
   "source": [
    "# Word tokenazation in spacy\n",
    "for sentence in doc.sents:\n",
    "  for word in sentence:\n",
    "    print(word)"
   ]
  },
  {
   "cell_type": "code",
   "execution_count": 6,
   "id": "c59200cf-9c6b-4ec4-bc28-ca72ce59dc34",
   "metadata": {},
   "outputs": [
    {
     "name": "stderr",
     "output_type": "stream",
     "text": [
      "[nltk_data] Downloading package punkt to /home/awalehdek/nltk_data...\n",
      "[nltk_data]   Package punkt is already up-to-date!\n"
     ]
    },
    {
     "data": {
      "text/plain": [
       "True"
      ]
     },
     "execution_count": 6,
     "metadata": {},
     "output_type": "execute_result"
    }
   ],
   "source": [
    "# Now using\n",
    "import nltk\n",
    "nltk.download('punkt')"
   ]
  },
  {
   "cell_type": "code",
   "execution_count": 7,
   "id": "08924942-2017-4826-9498-15e82f51a626",
   "metadata": {},
   "outputs": [
    {
     "data": {
      "text/plain": [
       "['Mr. Mike travels abroad for the first time.', 'He likes Mediteraneen food.']"
      ]
     },
     "execution_count": 7,
     "metadata": {},
     "output_type": "execute_result"
    }
   ],
   "source": [
    "from nltk.tokenize import sent_tokenize\n",
    "#\n",
    "sent_tokenize(\"Mr. Mike travels abroad for the first time. He likes Mediteraneen food.\")"
   ]
  },
  {
   "cell_type": "code",
   "execution_count": 8,
   "id": "85f46e94-d770-4f99-9a33-13945ce41b98",
   "metadata": {},
   "outputs": [
    {
     "data": {
      "text/plain": [
       "['Mr.',\n",
       " 'Mike',\n",
       " 'travels',\n",
       " 'abroad',\n",
       " 'for',\n",
       " 'the',\n",
       " 'first',\n",
       " 'time',\n",
       " '.',\n",
       " 'He',\n",
       " 'likes',\n",
       " 'Mediteraneen',\n",
       " 'food',\n",
       " '.']"
      ]
     },
     "execution_count": 8,
     "metadata": {},
     "output_type": "execute_result"
    }
   ],
   "source": [
    "# word tokenize nltk\n",
    "from nltk.tokenize import word_tokenize\n",
    "word_tokenize(\"Mr. Mike travels abroad for the first time. He likes Mediteraneen food.\")"
   ]
  },
  {
   "cell_type": "code",
   "execution_count": null,
   "id": "0d682f48-36a5-4a24-9b24-7dd3f975184b",
   "metadata": {},
   "outputs": [],
   "source": []
  }
 ],
 "metadata": {
  "kernelspec": {
   "display_name": "Python 3 (ipykernel)",
   "language": "python",
   "name": "python3"
  },
  "language_info": {
   "codemirror_mode": {
    "name": "ipython",
    "version": 3
   },
   "file_extension": ".py",
   "mimetype": "text/x-python",
   "name": "python",
   "nbconvert_exporter": "python",
   "pygments_lexer": "ipython3",
   "version": "3.10.12"
  }
 },
 "nbformat": 4,
 "nbformat_minor": 5
}
