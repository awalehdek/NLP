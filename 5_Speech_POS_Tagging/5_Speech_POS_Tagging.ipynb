{
  "nbformat": 4,
  "nbformat_minor": 0,
  "metadata": {
    "colab": {
      "provenance": []
    },
    "kernelspec": {
      "name": "python3",
      "display_name": "Python 3"
    },
    "language_info": {
      "name": "python"
    }
  },
  "cells": [
    {
      "cell_type": "code",
      "execution_count": 1,
      "metadata": {
        "id": "K-Zt3MDTCR5_"
      },
      "outputs": [],
      "source": [
        "import spacy"
      ]
    },
    {
      "cell_type": "code",
      "source": [
        "# Load the spaCy model\n",
        "nlp = spacy.load(\"en_core_web_sm\")\n",
        "\n",
        "# Process a sample text\n",
        "text = \"SpaCy is an open-source library for advanced natural language processing.\"\n",
        "doc = nlp(text)\n",
        "\n",
        "# Print the text and part-of-speech tag for each token\n",
        "for token in doc:\n",
        "    #\n",
        "    print(token,\" | \",token.pos_, \" | \", token.tag_, \" | \", spacy.explain(token.tag_))"
      ],
      "metadata": {
        "colab": {
          "base_uri": "https://localhost:8080/"
        },
        "id": "uSfhMIGyGlC7",
        "outputId": "8923e363-c8c2-4b0d-ef49-890b7e47ca72"
      },
      "execution_count": 7,
      "outputs": [
        {
          "output_type": "stream",
          "name": "stdout",
          "text": [
            "SpaCy  |  PROPN  |  NNP  |  noun, proper singular\n",
            "is  |  AUX  |  VBZ  |  verb, 3rd person singular present\n",
            "an  |  DET  |  DT  |  determiner\n",
            "open  |  ADJ  |  JJ  |  adjective (English), other noun-modifier (Chinese)\n",
            "-  |  PUNCT  |  HYPH  |  punctuation mark, hyphen\n",
            "source  |  NOUN  |  NN  |  noun, singular or mass\n",
            "library  |  NOUN  |  NN  |  noun, singular or mass\n",
            "for  |  ADP  |  IN  |  conjunction, subordinating or preposition\n",
            "advanced  |  ADJ  |  JJ  |  adjective (English), other noun-modifier (Chinese)\n",
            "natural  |  ADJ  |  JJ  |  adjective (English), other noun-modifier (Chinese)\n",
            "language  |  NOUN  |  NN  |  noun, singular or mass\n",
            "processing  |  NOUN  |  NN  |  noun, singular or mass\n",
            ".  |  PUNCT  |  .  |  punctuation mark, sentence closer\n"
          ]
        }
      ]
    },
    {
      "cell_type": "code",
      "source": [
        "# Process a sample text\n",
        "text = \"He left his job yesterday.\"\n",
        "doc = nlp(text)\n",
        "\n",
        "# Print the text and part-of-speech tag for each token\n",
        "for token in doc:\n",
        "    #\n",
        "    print(token,\" | \",token.pos_, \" | \", token.tag_, \" | \", spacy.explain(token.tag_))"
      ],
      "metadata": {
        "colab": {
          "base_uri": "https://localhost:8080/"
        },
        "id": "BKZrr5OiGlSt",
        "outputId": "ae4d2211-90fb-44f7-bc07-8dcc64edd3c1"
      },
      "execution_count": 8,
      "outputs": [
        {
          "output_type": "stream",
          "name": "stdout",
          "text": [
            "He  |  PRON  |  PRP  |  pronoun, personal\n",
            "left  |  VERB  |  VBD  |  verb, past tense\n",
            "his  |  PRON  |  PRP$  |  pronoun, possessive\n",
            "job  |  NOUN  |  NN  |  noun, singular or mass\n",
            "yesterday  |  NOUN  |  NN  |  noun, singular or mass\n",
            ".  |  PUNCT  |  .  |  punctuation mark, sentence closer\n"
          ]
        }
      ]
    },
    {
      "cell_type": "code",
      "source": [
        "# spacy is smart enough to know past tense verb\n",
        "print(doc[1].text,\"|\",doc[1].tag_,\"|\", spacy.explain(doc[1].tag_))"
      ],
      "metadata": {
        "colab": {
          "base_uri": "https://localhost:8080/"
        },
        "id": "eyvUCOxmIqLd",
        "outputId": "d2228486-8e0d-42fb-fa54-2e5cf40cffa3"
      },
      "execution_count": 9,
      "outputs": [
        {
          "output_type": "stream",
          "name": "stdout",
          "text": [
            "left | VBD | verb, past tense\n"
          ]
        }
      ]
    },
    {
      "cell_type": "markdown",
      "source": [
        "## Remove none meaninfull word to analys text"
      ],
      "metadata": {
        "id": "CJiGpadRMVYc"
      }
    },
    {
      "cell_type": "code",
      "source": [
        "# Example sentence\n",
        "text = \"Investment options include stocks, bonds, mutual funds, etc.; each has its own risk and return profile: evaluate carefully.\"\n",
        "doc = nlp(text)\n",
        "# Print the text and part-of-speech tag for each token\n",
        "for token in doc:\n",
        "    print(token,\" | \",token.pos_, \" | \", token.tag_, \" | \", spacy.explain(token.tag_))"
      ],
      "metadata": {
        "colab": {
          "base_uri": "https://localhost:8080/"
        },
        "id": "u75vmjA_MLev",
        "outputId": "2f7d2931-9799-4b61-a85a-ff0017127f60"
      },
      "execution_count": 28,
      "outputs": [
        {
          "output_type": "stream",
          "name": "stdout",
          "text": [
            "Investment  |  NOUN  |  NN  |  noun, singular or mass\n",
            "options  |  NOUN  |  NNS  |  noun, plural\n",
            "include  |  VERB  |  VBP  |  verb, non-3rd person singular present\n",
            "stocks  |  NOUN  |  NNS  |  noun, plural\n",
            ",  |  PUNCT  |  ,  |  punctuation mark, comma\n",
            "bonds  |  NOUN  |  NNS  |  noun, plural\n",
            ",  |  PUNCT  |  ,  |  punctuation mark, comma\n",
            "mutual  |  ADJ  |  JJ  |  adjective (English), other noun-modifier (Chinese)\n",
            "funds  |  NOUN  |  NNS  |  noun, plural\n",
            ",  |  PUNCT  |  ,  |  punctuation mark, comma\n",
            "etc  |  X  |  FW  |  foreign word\n",
            ".  |  X  |  FW  |  foreign word\n",
            ";  |  PUNCT  |  :  |  punctuation mark, colon or ellipsis\n",
            "each  |  PRON  |  DT  |  determiner\n",
            "has  |  VERB  |  VBZ  |  verb, 3rd person singular present\n",
            "its  |  PRON  |  PRP$  |  pronoun, possessive\n",
            "own  |  ADJ  |  JJ  |  adjective (English), other noun-modifier (Chinese)\n",
            "risk  |  NOUN  |  NN  |  noun, singular or mass\n",
            "and  |  CCONJ  |  CC  |  conjunction, coordinating\n",
            "return  |  NOUN  |  NN  |  noun, singular or mass\n",
            "profile  |  NOUN  |  NN  |  noun, singular or mass\n",
            ":  |  PUNCT  |  :  |  punctuation mark, colon or ellipsis\n",
            "evaluate  |  VERB  |  VB  |  verb, base form\n",
            "carefully  |  ADV  |  RB  |  adverb\n",
            ".  |  PUNCT  |  .  |  punctuation mark, sentence closer\n"
          ]
        }
      ]
    },
    {
      "cell_type": "code",
      "source": [
        "# Example sentence\n",
        "text = \"Investment options include stocks, bonds, mutual funds, etc.; each has its own risk and return profile: evaluate carefully.\"\n",
        "# Process the text with spaCy\n",
        "doc = nlp(text)\n",
        "# Print the text and part-of-speech tag for each token\n",
        "for token in doc:\n",
        "  # Romove \"SPACE\",\"X\",\"PUNCT\"\n",
        "  if token.pos_ not in  [\"SPACE\",\"X\",\"PUNCT\"]:\n",
        "    print(token,\" | \",token.pos_, \" | \", token.tag_, \" | \", spacy.explain(token.tag_))"
      ],
      "metadata": {
        "colab": {
          "base_uri": "https://localhost:8080/"
        },
        "id": "XjaFr_WoMnMR",
        "outputId": "140b48fa-ae61-47b1-f411-790ceb6453de"
      },
      "execution_count": 29,
      "outputs": [
        {
          "output_type": "stream",
          "name": "stdout",
          "text": [
            "Investment  |  NOUN  |  NN  |  noun, singular or mass\n",
            "options  |  NOUN  |  NNS  |  noun, plural\n",
            "include  |  VERB  |  VBP  |  verb, non-3rd person singular present\n",
            "stocks  |  NOUN  |  NNS  |  noun, plural\n",
            "bonds  |  NOUN  |  NNS  |  noun, plural\n",
            "mutual  |  ADJ  |  JJ  |  adjective (English), other noun-modifier (Chinese)\n",
            "funds  |  NOUN  |  NNS  |  noun, plural\n",
            "each  |  PRON  |  DT  |  determiner\n",
            "has  |  VERB  |  VBZ  |  verb, 3rd person singular present\n",
            "its  |  PRON  |  PRP$  |  pronoun, possessive\n",
            "own  |  ADJ  |  JJ  |  adjective (English), other noun-modifier (Chinese)\n",
            "risk  |  NOUN  |  NN  |  noun, singular or mass\n",
            "and  |  CCONJ  |  CC  |  conjunction, coordinating\n",
            "return  |  NOUN  |  NN  |  noun, singular or mass\n",
            "profile  |  NOUN  |  NN  |  noun, singular or mass\n",
            "evaluate  |  VERB  |  VB  |  verb, base form\n",
            "carefully  |  ADV  |  RB  |  adverb\n"
          ]
        }
      ]
    },
    {
      "cell_type": "code",
      "source": [
        "\n",
        "\n",
        "# List of part-of-speech tags to ignore\n",
        "ignore_pos = [\"PUNCT\", \"SPACE\", \"X\"]\n",
        "\n",
        "# Filter tokens based on their part-of-speech tag\n",
        "filtered_tokens = [token for token in doc if token.pos_ not in ignore_pos]\n",
        "\n",
        "# Print the filtered tokens\n",
        "for token in filtered_tokens:\n",
        "    print(token,\" | \",token.pos_, \" | \", token.tag_, \" | \", spacy.explain(token.tag_))"
      ],
      "metadata": {
        "colab": {
          "base_uri": "https://localhost:8080/"
        },
        "id": "SNGI867tMi0s",
        "outputId": "04953f35-5bfd-462f-fcc3-eb6306c6df51"
      },
      "execution_count": 34,
      "outputs": [
        {
          "output_type": "stream",
          "name": "stdout",
          "text": [
            "Investment  |  NOUN  |  NN  |  noun, singular or mass\n",
            "options  |  NOUN  |  NNS  |  noun, plural\n",
            "include  |  VERB  |  VBP  |  verb, non-3rd person singular present\n",
            "stocks  |  NOUN  |  NNS  |  noun, plural\n",
            "bonds  |  NOUN  |  NNS  |  noun, plural\n",
            "mutual  |  ADJ  |  JJ  |  adjective (English), other noun-modifier (Chinese)\n",
            "funds  |  NOUN  |  NNS  |  noun, plural\n",
            "each  |  PRON  |  DT  |  determiner\n",
            "has  |  VERB  |  VBZ  |  verb, 3rd person singular present\n",
            "its  |  PRON  |  PRP$  |  pronoun, possessive\n",
            "own  |  ADJ  |  JJ  |  adjective (English), other noun-modifier (Chinese)\n",
            "risk  |  NOUN  |  NN  |  noun, singular or mass\n",
            "and  |  CCONJ  |  CC  |  conjunction, coordinating\n",
            "return  |  NOUN  |  NN  |  noun, singular or mass\n",
            "profile  |  NOUN  |  NN  |  noun, singular or mass\n",
            "evaluate  |  VERB  |  VB  |  verb, base form\n",
            "carefully  |  ADV  |  RB  |  adverb\n"
          ]
        }
      ]
    },
    {
      "cell_type": "code",
      "source": [
        "count = doc.count_by(spacy.attrs.POS)\n",
        "count"
      ],
      "metadata": {
        "colab": {
          "base_uri": "https://localhost:8080/"
        },
        "id": "E2ZCvN4sNvXy",
        "outputId": "35b98c7d-fcaa-4b5f-b74c-ff541a8d9662"
      },
      "execution_count": 38,
      "outputs": [
        {
          "output_type": "execute_result",
          "data": {
            "text/plain": [
              "{92: 8, 100: 3, 97: 6, 84: 2, 101: 2, 95: 2, 89: 1, 86: 1}"
            ]
          },
          "metadata": {},
          "execution_count": 38
        }
      ]
    },
    {
      "cell_type": "code",
      "source": [
        "doc.vocab[92].text"
      ],
      "metadata": {
        "colab": {
          "base_uri": "https://localhost:8080/",
          "height": 35
        },
        "id": "IktPrVNsSama",
        "outputId": "100270fe-0e67-4c7d-a591-409c4f309525"
      },
      "execution_count": 39,
      "outputs": [
        {
          "output_type": "execute_result",
          "data": {
            "text/plain": [
              "'NOUN'"
            ],
            "application/vnd.google.colaboratory.intrinsic+json": {
              "type": "string"
            }
          },
          "metadata": {},
          "execution_count": 39
        }
      ]
    },
    {
      "cell_type": "code",
      "source": [
        "for k,v in count.items():\n",
        "  print(doc.vocab[k].text,\"|\", v)"
      ],
      "metadata": {
        "colab": {
          "base_uri": "https://localhost:8080/"
        },
        "id": "77nFOGrHSijA",
        "outputId": "9e6f7c89-57c2-437d-b07f-db36b5c1563a"
      },
      "execution_count": 41,
      "outputs": [
        {
          "output_type": "stream",
          "name": "stdout",
          "text": [
            "NOUN | 8\n",
            "VERB | 3\n",
            "PUNCT | 6\n",
            "ADJ | 2\n",
            "X | 2\n",
            "PRON | 2\n",
            "CCONJ | 1\n",
            "ADV | 1\n"
          ]
        }
      ]
    }
  ]
}