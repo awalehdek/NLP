{
  "nbformat": 4,
  "nbformat_minor": 0,
  "metadata": {
    "colab": {
      "provenance": []
    },
    "kernelspec": {
      "name": "python3",
      "display_name": "Python 3"
    },
    "language_info": {
      "name": "python"
    }
  },
  "cells": [
    {
      "cell_type": "code",
      "execution_count": 3,
      "metadata": {
        "id": "dxJMo2cTx25H"
      },
      "outputs": [],
      "source": [
        "import pandas as pd\n",
        "import numpy as np\n"
      ]
    },
    {
      "cell_type": "code",
      "source": [
        "# Loading the CSV File:\n",
        "spam_csv =\"/content/sample_data/spam.csv\"\n",
        "df = pd.read_csv(spam_csv)\n",
        "df.head()"
      ],
      "metadata": {
        "colab": {
          "base_uri": "https://localhost:8080/",
          "height": 206
        },
        "id": "5_iWKgzO8Dpt",
        "outputId": "a26ad259-04b6-46e0-8ad2-abab9db14fa7"
      },
      "execution_count": 6,
      "outputs": [
        {
          "output_type": "execute_result",
          "data": {
            "text/plain": [
              "  Category                                            Message\n",
              "0      ham  Go until jurong point, crazy.. Available only ...\n",
              "1      ham                      Ok lar... Joking wif u oni...\n",
              "2     spam  Free entry in 2 a wkly comp to win FA Cup fina...\n",
              "3      ham  U dun say so early hor... U c already then say...\n",
              "4      ham  Nah I don't think he goes to usf, he lives aro..."
            ],
            "text/html": [
              "\n",
              "  <div id=\"df-8474b64f-7f5a-48e3-a967-23149f36ff8a\" class=\"colab-df-container\">\n",
              "    <div>\n",
              "<style scoped>\n",
              "    .dataframe tbody tr th:only-of-type {\n",
              "        vertical-align: middle;\n",
              "    }\n",
              "\n",
              "    .dataframe tbody tr th {\n",
              "        vertical-align: top;\n",
              "    }\n",
              "\n",
              "    .dataframe thead th {\n",
              "        text-align: right;\n",
              "    }\n",
              "</style>\n",
              "<table border=\"1\" class=\"dataframe\">\n",
              "  <thead>\n",
              "    <tr style=\"text-align: right;\">\n",
              "      <th></th>\n",
              "      <th>Category</th>\n",
              "      <th>Message</th>\n",
              "    </tr>\n",
              "  </thead>\n",
              "  <tbody>\n",
              "    <tr>\n",
              "      <th>0</th>\n",
              "      <td>ham</td>\n",
              "      <td>Go until jurong point, crazy.. Available only ...</td>\n",
              "    </tr>\n",
              "    <tr>\n",
              "      <th>1</th>\n",
              "      <td>ham</td>\n",
              "      <td>Ok lar... Joking wif u oni...</td>\n",
              "    </tr>\n",
              "    <tr>\n",
              "      <th>2</th>\n",
              "      <td>spam</td>\n",
              "      <td>Free entry in 2 a wkly comp to win FA Cup fina...</td>\n",
              "    </tr>\n",
              "    <tr>\n",
              "      <th>3</th>\n",
              "      <td>ham</td>\n",
              "      <td>U dun say so early hor... U c already then say...</td>\n",
              "    </tr>\n",
              "    <tr>\n",
              "      <th>4</th>\n",
              "      <td>ham</td>\n",
              "      <td>Nah I don't think he goes to usf, he lives aro...</td>\n",
              "    </tr>\n",
              "  </tbody>\n",
              "</table>\n",
              "</div>\n",
              "    <div class=\"colab-df-buttons\">\n",
              "\n",
              "  <div class=\"colab-df-container\">\n",
              "    <button class=\"colab-df-convert\" onclick=\"convertToInteractive('df-8474b64f-7f5a-48e3-a967-23149f36ff8a')\"\n",
              "            title=\"Convert this dataframe to an interactive table.\"\n",
              "            style=\"display:none;\">\n",
              "\n",
              "  <svg xmlns=\"http://www.w3.org/2000/svg\" height=\"24px\" viewBox=\"0 -960 960 960\">\n",
              "    <path d=\"M120-120v-720h720v720H120Zm60-500h600v-160H180v160Zm220 220h160v-160H400v160Zm0 220h160v-160H400v160ZM180-400h160v-160H180v160Zm440 0h160v-160H620v160ZM180-180h160v-160H180v160Zm440 0h160v-160H620v160Z\"/>\n",
              "  </svg>\n",
              "    </button>\n",
              "\n",
              "  <style>\n",
              "    .colab-df-container {\n",
              "      display:flex;\n",
              "      gap: 12px;\n",
              "    }\n",
              "\n",
              "    .colab-df-convert {\n",
              "      background-color: #E8F0FE;\n",
              "      border: none;\n",
              "      border-radius: 50%;\n",
              "      cursor: pointer;\n",
              "      display: none;\n",
              "      fill: #1967D2;\n",
              "      height: 32px;\n",
              "      padding: 0 0 0 0;\n",
              "      width: 32px;\n",
              "    }\n",
              "\n",
              "    .colab-df-convert:hover {\n",
              "      background-color: #E2EBFA;\n",
              "      box-shadow: 0px 1px 2px rgba(60, 64, 67, 0.3), 0px 1px 3px 1px rgba(60, 64, 67, 0.15);\n",
              "      fill: #174EA6;\n",
              "    }\n",
              "\n",
              "    .colab-df-buttons div {\n",
              "      margin-bottom: 4px;\n",
              "    }\n",
              "\n",
              "    [theme=dark] .colab-df-convert {\n",
              "      background-color: #3B4455;\n",
              "      fill: #D2E3FC;\n",
              "    }\n",
              "\n",
              "    [theme=dark] .colab-df-convert:hover {\n",
              "      background-color: #434B5C;\n",
              "      box-shadow: 0px 1px 3px 1px rgba(0, 0, 0, 0.15);\n",
              "      filter: drop-shadow(0px 1px 2px rgba(0, 0, 0, 0.3));\n",
              "      fill: #FFFFFF;\n",
              "    }\n",
              "  </style>\n",
              "\n",
              "    <script>\n",
              "      const buttonEl =\n",
              "        document.querySelector('#df-8474b64f-7f5a-48e3-a967-23149f36ff8a button.colab-df-convert');\n",
              "      buttonEl.style.display =\n",
              "        google.colab.kernel.accessAllowed ? 'block' : 'none';\n",
              "\n",
              "      async function convertToInteractive(key) {\n",
              "        const element = document.querySelector('#df-8474b64f-7f5a-48e3-a967-23149f36ff8a');\n",
              "        const dataTable =\n",
              "          await google.colab.kernel.invokeFunction('convertToInteractive',\n",
              "                                                    [key], {});\n",
              "        if (!dataTable) return;\n",
              "\n",
              "        const docLinkHtml = 'Like what you see? Visit the ' +\n",
              "          '<a target=\"_blank\" href=https://colab.research.google.com/notebooks/data_table.ipynb>data table notebook</a>'\n",
              "          + ' to learn more about interactive tables.';\n",
              "        element.innerHTML = '';\n",
              "        dataTable['output_type'] = 'display_data';\n",
              "        await google.colab.output.renderOutput(dataTable, element);\n",
              "        const docLink = document.createElement('div');\n",
              "        docLink.innerHTML = docLinkHtml;\n",
              "        element.appendChild(docLink);\n",
              "      }\n",
              "    </script>\n",
              "  </div>\n",
              "\n",
              "\n",
              "<div id=\"df-64debaab-b534-4ace-89df-fba81e5dde0d\">\n",
              "  <button class=\"colab-df-quickchart\" onclick=\"quickchart('df-64debaab-b534-4ace-89df-fba81e5dde0d')\"\n",
              "            title=\"Suggest charts\"\n",
              "            style=\"display:none;\">\n",
              "\n",
              "<svg xmlns=\"http://www.w3.org/2000/svg\" height=\"24px\"viewBox=\"0 0 24 24\"\n",
              "     width=\"24px\">\n",
              "    <g>\n",
              "        <path d=\"M19 3H5c-1.1 0-2 .9-2 2v14c0 1.1.9 2 2 2h14c1.1 0 2-.9 2-2V5c0-1.1-.9-2-2-2zM9 17H7v-7h2v7zm4 0h-2V7h2v10zm4 0h-2v-4h2v4z\"/>\n",
              "    </g>\n",
              "</svg>\n",
              "  </button>\n",
              "\n",
              "<style>\n",
              "  .colab-df-quickchart {\n",
              "      --bg-color: #E8F0FE;\n",
              "      --fill-color: #1967D2;\n",
              "      --hover-bg-color: #E2EBFA;\n",
              "      --hover-fill-color: #174EA6;\n",
              "      --disabled-fill-color: #AAA;\n",
              "      --disabled-bg-color: #DDD;\n",
              "  }\n",
              "\n",
              "  [theme=dark] .colab-df-quickchart {\n",
              "      --bg-color: #3B4455;\n",
              "      --fill-color: #D2E3FC;\n",
              "      --hover-bg-color: #434B5C;\n",
              "      --hover-fill-color: #FFFFFF;\n",
              "      --disabled-bg-color: #3B4455;\n",
              "      --disabled-fill-color: #666;\n",
              "  }\n",
              "\n",
              "  .colab-df-quickchart {\n",
              "    background-color: var(--bg-color);\n",
              "    border: none;\n",
              "    border-radius: 50%;\n",
              "    cursor: pointer;\n",
              "    display: none;\n",
              "    fill: var(--fill-color);\n",
              "    height: 32px;\n",
              "    padding: 0;\n",
              "    width: 32px;\n",
              "  }\n",
              "\n",
              "  .colab-df-quickchart:hover {\n",
              "    background-color: var(--hover-bg-color);\n",
              "    box-shadow: 0 1px 2px rgba(60, 64, 67, 0.3), 0 1px 3px 1px rgba(60, 64, 67, 0.15);\n",
              "    fill: var(--button-hover-fill-color);\n",
              "  }\n",
              "\n",
              "  .colab-df-quickchart-complete:disabled,\n",
              "  .colab-df-quickchart-complete:disabled:hover {\n",
              "    background-color: var(--disabled-bg-color);\n",
              "    fill: var(--disabled-fill-color);\n",
              "    box-shadow: none;\n",
              "  }\n",
              "\n",
              "  .colab-df-spinner {\n",
              "    border: 2px solid var(--fill-color);\n",
              "    border-color: transparent;\n",
              "    border-bottom-color: var(--fill-color);\n",
              "    animation:\n",
              "      spin 1s steps(1) infinite;\n",
              "  }\n",
              "\n",
              "  @keyframes spin {\n",
              "    0% {\n",
              "      border-color: transparent;\n",
              "      border-bottom-color: var(--fill-color);\n",
              "      border-left-color: var(--fill-color);\n",
              "    }\n",
              "    20% {\n",
              "      border-color: transparent;\n",
              "      border-left-color: var(--fill-color);\n",
              "      border-top-color: var(--fill-color);\n",
              "    }\n",
              "    30% {\n",
              "      border-color: transparent;\n",
              "      border-left-color: var(--fill-color);\n",
              "      border-top-color: var(--fill-color);\n",
              "      border-right-color: var(--fill-color);\n",
              "    }\n",
              "    40% {\n",
              "      border-color: transparent;\n",
              "      border-right-color: var(--fill-color);\n",
              "      border-top-color: var(--fill-color);\n",
              "    }\n",
              "    60% {\n",
              "      border-color: transparent;\n",
              "      border-right-color: var(--fill-color);\n",
              "    }\n",
              "    80% {\n",
              "      border-color: transparent;\n",
              "      border-right-color: var(--fill-color);\n",
              "      border-bottom-color: var(--fill-color);\n",
              "    }\n",
              "    90% {\n",
              "      border-color: transparent;\n",
              "      border-bottom-color: var(--fill-color);\n",
              "    }\n",
              "  }\n",
              "</style>\n",
              "\n",
              "  <script>\n",
              "    async function quickchart(key) {\n",
              "      const quickchartButtonEl =\n",
              "        document.querySelector('#' + key + ' button');\n",
              "      quickchartButtonEl.disabled = true;  // To prevent multiple clicks.\n",
              "      quickchartButtonEl.classList.add('colab-df-spinner');\n",
              "      try {\n",
              "        const charts = await google.colab.kernel.invokeFunction(\n",
              "            'suggestCharts', [key], {});\n",
              "      } catch (error) {\n",
              "        console.error('Error during call to suggestCharts:', error);\n",
              "      }\n",
              "      quickchartButtonEl.classList.remove('colab-df-spinner');\n",
              "      quickchartButtonEl.classList.add('colab-df-quickchart-complete');\n",
              "    }\n",
              "    (() => {\n",
              "      let quickchartButtonEl =\n",
              "        document.querySelector('#df-64debaab-b534-4ace-89df-fba81e5dde0d button');\n",
              "      quickchartButtonEl.style.display =\n",
              "        google.colab.kernel.accessAllowed ? 'block' : 'none';\n",
              "    })();\n",
              "  </script>\n",
              "</div>\n",
              "\n",
              "    </div>\n",
              "  </div>\n"
            ],
            "application/vnd.google.colaboratory.intrinsic+json": {
              "type": "dataframe",
              "variable_name": "df",
              "summary": "{\n  \"name\": \"df\",\n  \"rows\": 5572,\n  \"fields\": [\n    {\n      \"column\": \"Category\",\n      \"properties\": {\n        \"dtype\": \"category\",\n        \"num_unique_values\": 2,\n        \"samples\": [\n          \"spam\",\n          \"ham\"\n        ],\n        \"semantic_type\": \"\",\n        \"description\": \"\"\n      }\n    },\n    {\n      \"column\": \"Message\",\n      \"properties\": {\n        \"dtype\": \"string\",\n        \"num_unique_values\": 5157,\n        \"samples\": [\n          \"Also sir, i sent you an email about how to log into the usc payment portal. I.ll send you another message that should explain how things are back home. Have a great weekend.\",\n          \"Are you free now?can i call now?\"\n        ],\n        \"semantic_type\": \"\",\n        \"description\": \"\"\n      }\n    }\n  ]\n}"
            }
          },
          "metadata": {},
          "execution_count": 6
        }
      ]
    },
    {
      "cell_type": "code",
      "source": [
        "# count the occurrences of each unique value in the 'Category' column of the DataFrame.\n",
        "# helps you understand the distribution of categories (e.g., 'spam' and 'ham') in the dataset\n",
        "df.Category.value_counts()"
      ],
      "metadata": {
        "colab": {
          "base_uri": "https://localhost:8080/",
          "height": 178
        },
        "id": "SYLmXs1tC7QP",
        "outputId": "98a6d4d3-3ec9-42ff-e679-f91f89714170"
      },
      "execution_count": 7,
      "outputs": [
        {
          "output_type": "execute_result",
          "data": {
            "text/plain": [
              "Category\n",
              "ham     4825\n",
              "spam     747\n",
              "Name: count, dtype: int64"
            ],
            "text/html": [
              "<table border=\"1\" class=\"dataframe\">\n",
              "  <thead>\n",
              "    <tr style=\"text-align: right;\">\n",
              "      <th></th>\n",
              "      <th>count</th>\n",
              "    </tr>\n",
              "    <tr>\n",
              "      <th>Category</th>\n",
              "      <th></th>\n",
              "    </tr>\n",
              "  </thead>\n",
              "  <tbody>\n",
              "    <tr>\n",
              "      <th>ham</th>\n",
              "      <td>4825</td>\n",
              "    </tr>\n",
              "    <tr>\n",
              "      <th>spam</th>\n",
              "      <td>747</td>\n",
              "    </tr>\n",
              "  </tbody>\n",
              "</table><br><label><b>dtype:</b> int64</label>"
            ]
          },
          "metadata": {},
          "execution_count": 7
        }
      ]
    },
    {
      "cell_type": "code",
      "source": [
        "df.isnull().sum()\n"
      ],
      "metadata": {
        "colab": {
          "base_uri": "https://localhost:8080/",
          "height": 147
        },
        "id": "TGVguG21D4Lh",
        "outputId": "b4b92f97-d893-4b73-cc32-bad408b495a3"
      },
      "execution_count": 8,
      "outputs": [
        {
          "output_type": "execute_result",
          "data": {
            "text/plain": [
              "Category    0\n",
              "Message     0\n",
              "dtype: int64"
            ],
            "text/html": [
              "<table border=\"1\" class=\"dataframe\">\n",
              "  <thead>\n",
              "    <tr style=\"text-align: right;\">\n",
              "      <th></th>\n",
              "      <th>0</th>\n",
              "    </tr>\n",
              "  </thead>\n",
              "  <tbody>\n",
              "    <tr>\n",
              "      <th>Category</th>\n",
              "      <td>0</td>\n",
              "    </tr>\n",
              "    <tr>\n",
              "      <th>Message</th>\n",
              "      <td>0</td>\n",
              "    </tr>\n",
              "  </tbody>\n",
              "</table><br><label><b>dtype:</b> int64</label>"
            ]
          },
          "metadata": {},
          "execution_count": 8
        }
      ]
    },
    {
      "cell_type": "code",
      "source": [
        "#Data Types and Summary\n",
        "# helpful to check the data types and a summary of the DataFrame.\n",
        "df.info()\n",
        "df.describe()\n"
      ],
      "metadata": {
        "colab": {
          "base_uri": "https://localhost:8080/",
          "height": 331
        },
        "id": "yWRrHisdELCF",
        "outputId": "45a6bff2-c3aa-4e26-b082-da5e82255008"
      },
      "execution_count": 9,
      "outputs": [
        {
          "output_type": "stream",
          "name": "stdout",
          "text": [
            "<class 'pandas.core.frame.DataFrame'>\n",
            "RangeIndex: 5572 entries, 0 to 5571\n",
            "Data columns (total 2 columns):\n",
            " #   Column    Non-Null Count  Dtype \n",
            "---  ------    --------------  ----- \n",
            " 0   Category  5572 non-null   object\n",
            " 1   Message   5572 non-null   object\n",
            "dtypes: object(2)\n",
            "memory usage: 87.2+ KB\n"
          ]
        },
        {
          "output_type": "execute_result",
          "data": {
            "text/plain": [
              "       Category                 Message\n",
              "count      5572                    5572\n",
              "unique        2                    5157\n",
              "top         ham  Sorry, I'll call later\n",
              "freq       4825                      30"
            ],
            "text/html": [
              "\n",
              "  <div id=\"df-8d88efc0-732a-4b53-9a98-79e2470e23e7\" class=\"colab-df-container\">\n",
              "    <div>\n",
              "<style scoped>\n",
              "    .dataframe tbody tr th:only-of-type {\n",
              "        vertical-align: middle;\n",
              "    }\n",
              "\n",
              "    .dataframe tbody tr th {\n",
              "        vertical-align: top;\n",
              "    }\n",
              "\n",
              "    .dataframe thead th {\n",
              "        text-align: right;\n",
              "    }\n",
              "</style>\n",
              "<table border=\"1\" class=\"dataframe\">\n",
              "  <thead>\n",
              "    <tr style=\"text-align: right;\">\n",
              "      <th></th>\n",
              "      <th>Category</th>\n",
              "      <th>Message</th>\n",
              "    </tr>\n",
              "  </thead>\n",
              "  <tbody>\n",
              "    <tr>\n",
              "      <th>count</th>\n",
              "      <td>5572</td>\n",
              "      <td>5572</td>\n",
              "    </tr>\n",
              "    <tr>\n",
              "      <th>unique</th>\n",
              "      <td>2</td>\n",
              "      <td>5157</td>\n",
              "    </tr>\n",
              "    <tr>\n",
              "      <th>top</th>\n",
              "      <td>ham</td>\n",
              "      <td>Sorry, I'll call later</td>\n",
              "    </tr>\n",
              "    <tr>\n",
              "      <th>freq</th>\n",
              "      <td>4825</td>\n",
              "      <td>30</td>\n",
              "    </tr>\n",
              "  </tbody>\n",
              "</table>\n",
              "</div>\n",
              "    <div class=\"colab-df-buttons\">\n",
              "\n",
              "  <div class=\"colab-df-container\">\n",
              "    <button class=\"colab-df-convert\" onclick=\"convertToInteractive('df-8d88efc0-732a-4b53-9a98-79e2470e23e7')\"\n",
              "            title=\"Convert this dataframe to an interactive table.\"\n",
              "            style=\"display:none;\">\n",
              "\n",
              "  <svg xmlns=\"http://www.w3.org/2000/svg\" height=\"24px\" viewBox=\"0 -960 960 960\">\n",
              "    <path d=\"M120-120v-720h720v720H120Zm60-500h600v-160H180v160Zm220 220h160v-160H400v160Zm0 220h160v-160H400v160ZM180-400h160v-160H180v160Zm440 0h160v-160H620v160ZM180-180h160v-160H180v160Zm440 0h160v-160H620v160Z\"/>\n",
              "  </svg>\n",
              "    </button>\n",
              "\n",
              "  <style>\n",
              "    .colab-df-container {\n",
              "      display:flex;\n",
              "      gap: 12px;\n",
              "    }\n",
              "\n",
              "    .colab-df-convert {\n",
              "      background-color: #E8F0FE;\n",
              "      border: none;\n",
              "      border-radius: 50%;\n",
              "      cursor: pointer;\n",
              "      display: none;\n",
              "      fill: #1967D2;\n",
              "      height: 32px;\n",
              "      padding: 0 0 0 0;\n",
              "      width: 32px;\n",
              "    }\n",
              "\n",
              "    .colab-df-convert:hover {\n",
              "      background-color: #E2EBFA;\n",
              "      box-shadow: 0px 1px 2px rgba(60, 64, 67, 0.3), 0px 1px 3px 1px rgba(60, 64, 67, 0.15);\n",
              "      fill: #174EA6;\n",
              "    }\n",
              "\n",
              "    .colab-df-buttons div {\n",
              "      margin-bottom: 4px;\n",
              "    }\n",
              "\n",
              "    [theme=dark] .colab-df-convert {\n",
              "      background-color: #3B4455;\n",
              "      fill: #D2E3FC;\n",
              "    }\n",
              "\n",
              "    [theme=dark] .colab-df-convert:hover {\n",
              "      background-color: #434B5C;\n",
              "      box-shadow: 0px 1px 3px 1px rgba(0, 0, 0, 0.15);\n",
              "      filter: drop-shadow(0px 1px 2px rgba(0, 0, 0, 0.3));\n",
              "      fill: #FFFFFF;\n",
              "    }\n",
              "  </style>\n",
              "\n",
              "    <script>\n",
              "      const buttonEl =\n",
              "        document.querySelector('#df-8d88efc0-732a-4b53-9a98-79e2470e23e7 button.colab-df-convert');\n",
              "      buttonEl.style.display =\n",
              "        google.colab.kernel.accessAllowed ? 'block' : 'none';\n",
              "\n",
              "      async function convertToInteractive(key) {\n",
              "        const element = document.querySelector('#df-8d88efc0-732a-4b53-9a98-79e2470e23e7');\n",
              "        const dataTable =\n",
              "          await google.colab.kernel.invokeFunction('convertToInteractive',\n",
              "                                                    [key], {});\n",
              "        if (!dataTable) return;\n",
              "\n",
              "        const docLinkHtml = 'Like what you see? Visit the ' +\n",
              "          '<a target=\"_blank\" href=https://colab.research.google.com/notebooks/data_table.ipynb>data table notebook</a>'\n",
              "          + ' to learn more about interactive tables.';\n",
              "        element.innerHTML = '';\n",
              "        dataTable['output_type'] = 'display_data';\n",
              "        await google.colab.output.renderOutput(dataTable, element);\n",
              "        const docLink = document.createElement('div');\n",
              "        docLink.innerHTML = docLinkHtml;\n",
              "        element.appendChild(docLink);\n",
              "      }\n",
              "    </script>\n",
              "  </div>\n",
              "\n",
              "\n",
              "<div id=\"df-4bcf830e-7aa5-4c21-9d63-accbafc83566\">\n",
              "  <button class=\"colab-df-quickchart\" onclick=\"quickchart('df-4bcf830e-7aa5-4c21-9d63-accbafc83566')\"\n",
              "            title=\"Suggest charts\"\n",
              "            style=\"display:none;\">\n",
              "\n",
              "<svg xmlns=\"http://www.w3.org/2000/svg\" height=\"24px\"viewBox=\"0 0 24 24\"\n",
              "     width=\"24px\">\n",
              "    <g>\n",
              "        <path d=\"M19 3H5c-1.1 0-2 .9-2 2v14c0 1.1.9 2 2 2h14c1.1 0 2-.9 2-2V5c0-1.1-.9-2-2-2zM9 17H7v-7h2v7zm4 0h-2V7h2v10zm4 0h-2v-4h2v4z\"/>\n",
              "    </g>\n",
              "</svg>\n",
              "  </button>\n",
              "\n",
              "<style>\n",
              "  .colab-df-quickchart {\n",
              "      --bg-color: #E8F0FE;\n",
              "      --fill-color: #1967D2;\n",
              "      --hover-bg-color: #E2EBFA;\n",
              "      --hover-fill-color: #174EA6;\n",
              "      --disabled-fill-color: #AAA;\n",
              "      --disabled-bg-color: #DDD;\n",
              "  }\n",
              "\n",
              "  [theme=dark] .colab-df-quickchart {\n",
              "      --bg-color: #3B4455;\n",
              "      --fill-color: #D2E3FC;\n",
              "      --hover-bg-color: #434B5C;\n",
              "      --hover-fill-color: #FFFFFF;\n",
              "      --disabled-bg-color: #3B4455;\n",
              "      --disabled-fill-color: #666;\n",
              "  }\n",
              "\n",
              "  .colab-df-quickchart {\n",
              "    background-color: var(--bg-color);\n",
              "    border: none;\n",
              "    border-radius: 50%;\n",
              "    cursor: pointer;\n",
              "    display: none;\n",
              "    fill: var(--fill-color);\n",
              "    height: 32px;\n",
              "    padding: 0;\n",
              "    width: 32px;\n",
              "  }\n",
              "\n",
              "  .colab-df-quickchart:hover {\n",
              "    background-color: var(--hover-bg-color);\n",
              "    box-shadow: 0 1px 2px rgba(60, 64, 67, 0.3), 0 1px 3px 1px rgba(60, 64, 67, 0.15);\n",
              "    fill: var(--button-hover-fill-color);\n",
              "  }\n",
              "\n",
              "  .colab-df-quickchart-complete:disabled,\n",
              "  .colab-df-quickchart-complete:disabled:hover {\n",
              "    background-color: var(--disabled-bg-color);\n",
              "    fill: var(--disabled-fill-color);\n",
              "    box-shadow: none;\n",
              "  }\n",
              "\n",
              "  .colab-df-spinner {\n",
              "    border: 2px solid var(--fill-color);\n",
              "    border-color: transparent;\n",
              "    border-bottom-color: var(--fill-color);\n",
              "    animation:\n",
              "      spin 1s steps(1) infinite;\n",
              "  }\n",
              "\n",
              "  @keyframes spin {\n",
              "    0% {\n",
              "      border-color: transparent;\n",
              "      border-bottom-color: var(--fill-color);\n",
              "      border-left-color: var(--fill-color);\n",
              "    }\n",
              "    20% {\n",
              "      border-color: transparent;\n",
              "      border-left-color: var(--fill-color);\n",
              "      border-top-color: var(--fill-color);\n",
              "    }\n",
              "    30% {\n",
              "      border-color: transparent;\n",
              "      border-left-color: var(--fill-color);\n",
              "      border-top-color: var(--fill-color);\n",
              "      border-right-color: var(--fill-color);\n",
              "    }\n",
              "    40% {\n",
              "      border-color: transparent;\n",
              "      border-right-color: var(--fill-color);\n",
              "      border-top-color: var(--fill-color);\n",
              "    }\n",
              "    60% {\n",
              "      border-color: transparent;\n",
              "      border-right-color: var(--fill-color);\n",
              "    }\n",
              "    80% {\n",
              "      border-color: transparent;\n",
              "      border-right-color: var(--fill-color);\n",
              "      border-bottom-color: var(--fill-color);\n",
              "    }\n",
              "    90% {\n",
              "      border-color: transparent;\n",
              "      border-bottom-color: var(--fill-color);\n",
              "    }\n",
              "  }\n",
              "</style>\n",
              "\n",
              "  <script>\n",
              "    async function quickchart(key) {\n",
              "      const quickchartButtonEl =\n",
              "        document.querySelector('#' + key + ' button');\n",
              "      quickchartButtonEl.disabled = true;  // To prevent multiple clicks.\n",
              "      quickchartButtonEl.classList.add('colab-df-spinner');\n",
              "      try {\n",
              "        const charts = await google.colab.kernel.invokeFunction(\n",
              "            'suggestCharts', [key], {});\n",
              "      } catch (error) {\n",
              "        console.error('Error during call to suggestCharts:', error);\n",
              "      }\n",
              "      quickchartButtonEl.classList.remove('colab-df-spinner');\n",
              "      quickchartButtonEl.classList.add('colab-df-quickchart-complete');\n",
              "    }\n",
              "    (() => {\n",
              "      let quickchartButtonEl =\n",
              "        document.querySelector('#df-4bcf830e-7aa5-4c21-9d63-accbafc83566 button');\n",
              "      quickchartButtonEl.style.display =\n",
              "        google.colab.kernel.accessAllowed ? 'block' : 'none';\n",
              "    })();\n",
              "  </script>\n",
              "</div>\n",
              "\n",
              "    </div>\n",
              "  </div>\n"
            ],
            "application/vnd.google.colaboratory.intrinsic+json": {
              "type": "dataframe",
              "summary": "{\n  \"name\": \"df\",\n  \"rows\": 4,\n  \"fields\": [\n    {\n      \"column\": \"Category\",\n      \"properties\": {\n        \"dtype\": \"string\",\n        \"num_unique_values\": 4,\n        \"samples\": [\n          2,\n          \"4825\",\n          \"5572\"\n        ],\n        \"semantic_type\": \"\",\n        \"description\": \"\"\n      }\n    },\n    {\n      \"column\": \"Message\",\n      \"properties\": {\n        \"dtype\": \"string\",\n        \"num_unique_values\": 4,\n        \"samples\": [\n          5157,\n          \"30\",\n          \"5572\"\n        ],\n        \"semantic_type\": \"\",\n        \"description\": \"\"\n      }\n    }\n  ]\n}"
            }
          },
          "metadata": {},
          "execution_count": 9
        }
      ]
    },
    {
      "cell_type": "code",
      "source": [
        "import matplotlib.pyplot as plt\n",
        "df.Category.value_counts().plot(kind='bar')\n",
        "plt.title('Category Distribution')\n",
        "plt.xlabel('Category')\n",
        "plt.ylabel('Count')\n",
        "plt.show()\n"
      ],
      "metadata": {
        "colab": {
          "base_uri": "https://localhost:8080/",
          "height": 496
        },
        "id": "LpPtLzEsENiV",
        "outputId": "68c3f65d-7df8-41dd-bdff-fcfd2d2590bf"
      },
      "execution_count": 10,
      "outputs": [
        {
          "output_type": "display_data",
          "data": {
            "text/plain": [
              "<Figure size 640x480 with 1 Axes>"
            ],
            "image/png": "[encoded data removed]"
          },
          "metadata": {}
        }
      ]
    },
    {
      "cell_type": "markdown",
      "source": [
        "# Machine learning does not understand words but only numerical data.\n",
        "\n",
        "This transformation is often used to convert categorical data into numerical data, which can be useful for machine learning algorithms that require numerical input"
      ],
      "metadata": {
        "id": "gvBiuZ6oGZ6q"
      }
    },
    {
      "cell_type": "code",
      "source": [
        "# Create a new column 'spam' using a for loop\n",
        "df['spam'] = 0  # Initialize the new column with zeros\n",
        "for i in range(len(df)):\n",
        "    if df.loc[i, 'Category'] == 'spam':\n",
        "        df.loc[i, 'spam'] = 1\n",
        "\n",
        "print(df.head())  # Display the first few rows to check the new column"
      ],
      "metadata": {
        "colab": {
          "base_uri": "https://localhost:8080/"
        },
        "id": "kziTHusTEhsM",
        "outputId": "b3f1660c-7afd-4341-e723-5e51ba2c9d59"
      },
      "execution_count": 13,
      "outputs": [
        {
          "output_type": "stream",
          "name": "stdout",
          "text": [
            "  Category                                            Message  spam\n",
            "0      ham  Go until jurong point, crazy.. Available only ...     0\n",
            "1      ham                      Ok lar... Joking wif u oni...     0\n",
            "2     spam  Free entry in 2 a wkly comp to win FA Cup fina...     1\n",
            "3      ham  U dun say so early hor... U c already then say...     0\n",
            "4      ham  Nah I don't think he goes to usf, he lives aro...     0\n"
          ]
        }
      ]
    },
    {
      "cell_type": "code",
      "source": [
        "df.shape"
      ],
      "metadata": {
        "colab": {
          "base_uri": "https://localhost:8080/"
        },
        "id": "lmL_g1xTGM5h",
        "outputId": "f656a716-944f-47f9-a9bb-e5706e4bdd5f"
      },
      "execution_count": 15,
      "outputs": [
        {
          "output_type": "execute_result",
          "data": {
            "text/plain": [
              "(5572, 3)"
            ]
          },
          "metadata": {},
          "execution_count": 15
        }
      ]
    },
    {
      "cell_type": "markdown",
      "source": [
        "# train_test_split\n",
        "function is used to split arrays or matrices into random train and test subsets. This is essential for evaluating the performance of a machine learning model on unseen data."
      ],
      "metadata": {
        "id": "iV1U1wRXGnkl"
      }
    },
    {
      "cell_type": "code",
      "source": [
        "from sklearn.model_selection import train_test_split\n",
        "\n",
        "# Split the dataset into training and testing sets\n",
        "# X_train: Training set features (messages)\n",
        "# X_test: Testing set features (messages)\n",
        "# y_train: Training set labels (spam indicators)\n",
        "# y_test: Testing set labels (spam indicators)\n",
        "X_train, X_test, y_train, y_test = train_test_split(df.Message, df.spam, test_size=0.2)"
      ],
      "metadata": {
        "id": "j31pncv8G9rb"
      },
      "execution_count": 18,
      "outputs": []
    },
    {
      "cell_type": "markdown",
      "source": [
        "X_train and y_train will be used to train the machine learning model.\n",
        "\n",
        "X_test and y_test will be used to evaluate the performance of the trained model."
      ],
      "metadata": {
        "id": "9irsaNngX-OI"
      }
    },
    {
      "cell_type": "markdown",
      "source": [
        "Purpose of the Splitting:\n",
        "\n",
        "    Training Set: This subset is used to train the machine learning model. The model learns the patterns and relationships from this data.\n",
        "    Testing Set: This subset is used to evaluate the performance of the trained model. It provides an unbiased estimate of the model's performance on unseen data, helping to detect issues like overfitting."
      ],
      "metadata": {
        "id": "PaXIP3cMYX0X"
      }
    },
    {
      "cell_type": "code",
      "source": [
        "print(\"X_train.shape:\",X_train.shape )\n",
        "print(\"X_test.shape:\",X_test.shape )"
      ],
      "metadata": {
        "colab": {
          "base_uri": "https://localhost:8080/"
        },
        "id": "qx-G7CgmYHbj",
        "outputId": "b0682317-b3da-468f-b482-5edb47249570"
      },
      "execution_count": 22,
      "outputs": [
        {
          "output_type": "stream",
          "name": "stdout",
          "text": [
            "X_train.shape: (4457,)\n",
            "X_test.shape: (1115,)\n"
          ]
        }
      ]
    },
    {
      "cell_type": "code",
      "source": [
        "X_train[:5][4320]"
      ],
      "metadata": {
        "colab": {
          "base_uri": "https://localhost:8080/",
          "height": 258
        },
        "id": "ZGWqqEpHZF_S",
        "outputId": "6b73929b-3c7c-4e81-b7c8-7f12fd5f13f3"
      },
      "execution_count": 23,
      "outputs": [
        {
          "output_type": "execute_result",
          "data": {
            "text/plain": [
              "4320                  Are you still playing with gautham?\n",
              "2430    Guess who am I?This is the first time I create...\n",
              "3486    No:-)i got rumour that you going to buy apartm...\n",
              "2294    Hello. Damn this christmas thing. I think i ha...\n",
              "175     Well, i'm gonna finish my bath now. Have a goo...\n",
              "Name: Message, dtype: object"
            ],
            "text/html": [
              "<table border=\"1\" class=\"dataframe\">\n",
              "  <thead>\n",
              "    <tr style=\"text-align: right;\">\n",
              "      <th></th>\n",
              "      <th>Message</th>\n",
              "    </tr>\n",
              "  </thead>\n",
              "  <tbody>\n",
              "    <tr>\n",
              "      <th>4320</th>\n",
              "      <td>Are you still playing with gautham?</td>\n",
              "    </tr>\n",
              "    <tr>\n",
              "      <th>2430</th>\n",
              "      <td>Guess who am I?This is the first time I created a web page WWW.ASJESUS.COM read all I wrote. I'm waiting for your opinions. I want to be your friend 1/1</td>\n",
              "    </tr>\n",
              "    <tr>\n",
              "      <th>3486</th>\n",
              "      <td>No:-)i got rumour that you going to buy apartment in chennai:-)</td>\n",
              "    </tr>\n",
              "    <tr>\n",
              "      <th>2294</th>\n",
              "      <td>Hello. Damn this christmas thing. I think i have decided to keep this mp3 that doesnt work.</td>\n",
              "    </tr>\n",
              "    <tr>\n",
              "      <th>175</th>\n",
              "      <td>Well, i'm gonna finish my bath now. Have a good...fine night.</td>\n",
              "    </tr>\n",
              "  </tbody>\n",
              "</table><br><label><b>dtype:</b> object</label>"
            ]
          },
          "metadata": {},
          "execution_count": 23
        }
      ]
    },
    {
      "cell_type": "code",
      "source": [
        "X_train[:5][4320]"
      ],
      "metadata": {
        "colab": {
          "base_uri": "https://localhost:8080/",
          "height": 35
        },
        "id": "TbweWIfVZXyW",
        "outputId": "9f0aec6d-5008-4297-e6d0-0a505d2daa36"
      },
      "execution_count": 24,
      "outputs": [
        {
          "output_type": "execute_result",
          "data": {
            "text/plain": [
              "'Are you still playing with gautham?'"
            ],
            "application/vnd.google.colaboratory.intrinsic+json": {
              "type": "string"
            }
          },
          "metadata": {},
          "execution_count": 24
        }
      ]
    },
    {
      "cell_type": "code",
      "source": [
        "type(y_train)"
      ],
      "metadata": {
        "colab": {
          "base_uri": "https://localhost:8080/",
          "height": 204
        },
        "id": "2mO3-GHVZlvT",
        "outputId": "9ec53d4b-3f38-48ad-f9e5-0939c515d6e6"
      },
      "execution_count": 25,
      "outputs": [
        {
          "output_type": "execute_result",
          "data": {
            "text/plain": [
              "pandas.core.series.Series"
            ],
            "text/html": [
              "<div style=\"max-width:800px; border: 1px solid var(--colab-border-color);\"><style>\n",
              "      pre.function-repr-contents {\n",
              "        overflow-x: auto;\n",
              "        padding: 8px 12px;\n",
              "        max-height: 500px;\n",
              "      }\n",
              "\n",
              "      pre.function-repr-contents.function-repr-contents-collapsed {\n",
              "        cursor: pointer;\n",
              "        max-height: 100px;\n",
              "      }\n",
              "    </style>\n",
              "    <pre style=\"white-space: initial; background:\n",
              "         var(--colab-secondary-surface-color); padding: 8px 12px;\n",
              "         border-bottom: 1px solid var(--colab-border-color);\"><b>pandas.core.series.Series</b><br/>def __init__(data=None, index=None, dtype: Dtype | None=None, name=None, copy: bool | None=None, fastpath: bool=False) -&gt; None</pre><pre class=\"function-repr-contents function-repr-contents-collapsed\" style=\"\"><a class=\"filepath\" style=\"display:none\" href=\"#\">/usr/local/lib/python3.10/dist-packages/pandas/core/series.py</a>One-dimensional ndarray with axis labels (including time series).\n",
              "\n",
              "Labels need not be unique but must be a hashable type. The object\n",
              "supports both integer- and label-based indexing and provides a host of\n",
              "methods for performing operations involving the index. Statistical\n",
              "methods from ndarray have been overridden to automatically exclude\n",
              "missing data (currently represented as NaN).\n",
              "\n",
              "Operations between Series (+, -, /, \\*, \\*\\*) align values based on their\n",
              "associated index values-- they need not be the same length. The result\n",
              "index will be the sorted union of the two indexes.\n",
              "\n",
              "Parameters\n",
              "----------\n",
              "data : array-like, Iterable, dict, or scalar value\n",
              "    Contains data stored in Series. If data is a dict, argument order is\n",
              "    maintained.\n",
              "index : array-like or Index (1d)\n",
              "    Values must be hashable and have the same length as `data`.\n",
              "    Non-unique index values are allowed. Will default to\n",
              "    RangeIndex (0, 1, 2, ..., n) if not provided. If data is dict-like\n",
              "    and index is None, then the keys in the data are used as the index. If the\n",
              "    index is not None, the resulting Series is reindexed with the index values.\n",
              "dtype : str, numpy.dtype, or ExtensionDtype, optional\n",
              "    Data type for the output Series. If not specified, this will be\n",
              "    inferred from `data`.\n",
              "    See the :ref:`user guide &lt;basics.dtypes&gt;` for more usages.\n",
              "name : Hashable, default None\n",
              "    The name to give to the Series.\n",
              "copy : bool, default False\n",
              "    Copy input data. Only affects Series or 1d ndarray input. See examples.\n",
              "\n",
              "Notes\n",
              "-----\n",
              "Please reference the :ref:`User Guide &lt;basics.series&gt;` for more information.\n",
              "\n",
              "Examples\n",
              "--------\n",
              "Constructing Series from a dictionary with an Index specified\n",
              "\n",
              "&gt;&gt;&gt; d = {&#x27;a&#x27;: 1, &#x27;b&#x27;: 2, &#x27;c&#x27;: 3}\n",
              "&gt;&gt;&gt; ser = pd.Series(data=d, index=[&#x27;a&#x27;, &#x27;b&#x27;, &#x27;c&#x27;])\n",
              "&gt;&gt;&gt; ser\n",
              "a   1\n",
              "b   2\n",
              "c   3\n",
              "dtype: int64\n",
              "\n",
              "The keys of the dictionary match with the Index values, hence the Index\n",
              "values have no effect.\n",
              "\n",
              "&gt;&gt;&gt; d = {&#x27;a&#x27;: 1, &#x27;b&#x27;: 2, &#x27;c&#x27;: 3}\n",
              "&gt;&gt;&gt; ser = pd.Series(data=d, index=[&#x27;x&#x27;, &#x27;y&#x27;, &#x27;z&#x27;])\n",
              "&gt;&gt;&gt; ser\n",
              "x   NaN\n",
              "y   NaN\n",
              "z   NaN\n",
              "dtype: float64\n",
              "\n",
              "Note that the Index is first build with the keys from the dictionary.\n",
              "After this the Series is reindexed with the given Index values, hence we\n",
              "get all NaN as a result.\n",
              "\n",
              "Constructing Series from a list with `copy=False`.\n",
              "\n",
              "&gt;&gt;&gt; r = [1, 2]\n",
              "&gt;&gt;&gt; ser = pd.Series(r, copy=False)\n",
              "&gt;&gt;&gt; ser.iloc[0] = 999\n",
              "&gt;&gt;&gt; r\n",
              "[1, 2]\n",
              "&gt;&gt;&gt; ser\n",
              "0    999\n",
              "1      2\n",
              "dtype: int64\n",
              "\n",
              "Due to input data type the Series has a `copy` of\n",
              "the original data even though `copy=False`, so\n",
              "the data is unchanged.\n",
              "\n",
              "Constructing Series from a 1d ndarray with `copy=False`.\n",
              "\n",
              "&gt;&gt;&gt; r = np.array([1, 2])\n",
              "&gt;&gt;&gt; ser = pd.Series(r, copy=False)\n",
              "&gt;&gt;&gt; ser.iloc[0] = 999\n",
              "&gt;&gt;&gt; r\n",
              "array([999,   2])\n",
              "&gt;&gt;&gt; ser\n",
              "0    999\n",
              "1      2\n",
              "dtype: int64\n",
              "\n",
              "Due to input data type the Series has a `view` on\n",
              "the original data, so\n",
              "the data is changed as well.</pre>\n",
              "      <script>\n",
              "      if (google.colab.kernel.accessAllowed && google.colab.files && google.colab.files.view) {\n",
              "        for (const element of document.querySelectorAll('.filepath')) {\n",
              "          element.style.display = 'block'\n",
              "          element.onclick = (event) => {\n",
              "            event.preventDefault();\n",
              "            event.stopPropagation();\n",
              "            google.colab.files.view(element.textContent, 245);\n",
              "          };\n",
              "        }\n",
              "      }\n",
              "      for (const element of document.querySelectorAll('.function-repr-contents')) {\n",
              "        element.onclick = (event) => {\n",
              "          event.preventDefault();\n",
              "          event.stopPropagation();\n",
              "          element.classList.toggle('function-repr-contents-collapsed');\n",
              "        };\n",
              "      }\n",
              "      </script>\n",
              "      </div>"
            ]
          },
          "metadata": {},
          "execution_count": 25
        }
      ]
    },
    {
      "cell_type": "code",
      "source": [
        "y_train[:4]"
      ],
      "metadata": {
        "colab": {
          "base_uri": "https://localhost:8080/",
          "height": 210
        },
        "id": "MPgBCgGhZrcp",
        "outputId": "4f1eb814-e99c-4c2f-a43d-54598f0a6cb5"
      },
      "execution_count": 26,
      "outputs": [
        {
          "output_type": "execute_result",
          "data": {
            "text/plain": [
              "4320    0\n",
              "2430    1\n",
              "3486    0\n",
              "2294    0\n",
              "Name: spam, dtype: int64"
            ],
            "text/html": [
              "<table border=\"1\" class=\"dataframe\">\n",
              "  <thead>\n",
              "    <tr style=\"text-align: right;\">\n",
              "      <th></th>\n",
              "      <th>spam</th>\n",
              "    </tr>\n",
              "  </thead>\n",
              "  <tbody>\n",
              "    <tr>\n",
              "      <th>4320</th>\n",
              "      <td>0</td>\n",
              "    </tr>\n",
              "    <tr>\n",
              "      <th>2430</th>\n",
              "      <td>1</td>\n",
              "    </tr>\n",
              "    <tr>\n",
              "      <th>3486</th>\n",
              "      <td>0</td>\n",
              "    </tr>\n",
              "    <tr>\n",
              "      <th>2294</th>\n",
              "      <td>0</td>\n",
              "    </tr>\n",
              "  </tbody>\n",
              "</table><br><label><b>dtype:</b> int64</label>"
            ]
          },
          "metadata": {},
          "execution_count": 26
        }
      ]
    },
    {
      "cell_type": "markdown",
      "source": [
        "## Example of Vectorization\n",
        "\n",
        "CountVectorizer is used to convert a collection of text documents into a matrix of token counts. This is a common method for text feature extraction in natural language processing."
      ],
      "metadata": {
        "id": "cRIQYVTAgek1"
      }
    },
    {
      "cell_type": "code",
      "source": [
        "from sklearn.feature_extraction.text import CountVectorizer\n",
        "corpus = [\n",
        "    'I am going to work.',\n",
        "    'I am goig to schoo;.',\n",
        "]\n",
        "vectorizer = CountVectorizer()\n",
        "X = vectorizer.fit_transform(corpus)\n",
        "vectorizer.get_feature_names_out()"
      ],
      "metadata": {
        "colab": {
          "base_uri": "https://localhost:8080/"
        },
        "id": "wuaBRk3hf6WX",
        "outputId": "113eccc3-dcb5-4695-d46f-cb9cb3af325f"
      },
      "execution_count": 46,
      "outputs": [
        {
          "output_type": "execute_result",
          "data": {
            "text/plain": [
              "array(['am', 'goig', 'going', 'schoo', 'to', 'work'], dtype=object)"
            ]
          },
          "metadata": {},
          "execution_count": 46
        }
      ]
    },
    {
      "cell_type": "code",
      "source": [
        "print(X.toarray())"
      ],
      "metadata": {
        "colab": {
          "base_uri": "https://localhost:8080/"
        },
        "id": "t7Nzk20jg1uq",
        "outputId": "f8d85471-17e3-4bf2-fa18-759061461ae8"
      },
      "execution_count": 47,
      "outputs": [
        {
          "output_type": "stream",
          "name": "stdout",
          "text": [
            "[[1 0 1 0 1 1]\n",
            " [1 1 0 1 1 0]]\n"
          ]
        }
      ]
    },
    {
      "cell_type": "markdown",
      "source": [
        "### Vectorizing spam.csv"
      ],
      "metadata": {
        "id": "YEkAoDsmoFcL"
      }
    },
    {
      "cell_type": "code",
      "source": [
        "# link countVectorizer https://scikit-learn.org/stable/modules/generated/sklearn.feature_extraction.text.CountVectorizer.html\n",
        "from sklearn.feature_extraction.text import CountVectorizer\n",
        "vect = CountVectorizer()\n",
        "X_train_csv = vect.fit_transform(X_train.values)\n",
        "X_train_csv\n"
      ],
      "metadata": {
        "colab": {
          "base_uri": "https://localhost:8080/"
        },
        "id": "vONFlxegZ0R7",
        "outputId": "ab4ea95c-fc7c-41f7-c9f1-5396275960ee"
      },
      "execution_count": 33,
      "outputs": [
        {
          "output_type": "execute_result",
          "data": {
            "text/plain": [
              "<4457x7778 sparse matrix of type '<class 'numpy.int64'>'\n",
              "\twith 59261 stored elements in Compressed Sparse Row format>"
            ]
          },
          "metadata": {},
          "execution_count": 33
        }
      ]
    },
    {
      "cell_type": "code",
      "source": [
        "X_train_csv.toarray()[:3][0]"
      ],
      "metadata": {
        "colab": {
          "base_uri": "https://localhost:8080/"
        },
        "id": "IJTzzJXdaoWr",
        "outputId": "4d62c7b9-363f-401d-bfc3-79b291d27b7b"
      },
      "execution_count": 34,
      "outputs": [
        {
          "output_type": "execute_result",
          "data": {
            "text/plain": [
              "array([0, 0, 0, ..., 0, 0, 0])"
            ]
          },
          "metadata": {},
          "execution_count": 34
        }
      ]
    },
    {
      "cell_type": "code",
      "source": [
        "X_train_csv.shape"
      ],
      "metadata": {
        "colab": {
          "base_uri": "https://localhost:8080/"
        },
        "id": "1bJgIThRbsCO",
        "outputId": "0e6d454c-1f59-44dd-b9fe-b1e0714b2985"
      },
      "execution_count": 36,
      "outputs": [
        {
          "output_type": "execute_result",
          "data": {
            "text/plain": [
              "(4457, 7778)"
            ]
          },
          "metadata": {},
          "execution_count": 36
        }
      ]
    },
    {
      "cell_type": "code",
      "source": [
        "dir(vect)[10:20]"
      ],
      "metadata": {
        "colab": {
          "base_uri": "https://localhost:8080/"
        },
        "id": "m8sOYu3mb9v2",
        "outputId": "1679ee35-b2a6-466f-b2bb-8f95889c3d0f"
      },
      "execution_count": 40,
      "outputs": [
        {
          "output_type": "execute_result",
          "data": {
            "text/plain": [
              "['__getstate__',\n",
              " '__gt__',\n",
              " '__hash__',\n",
              " '__init__',\n",
              " '__init_subclass__',\n",
              " '__le__',\n",
              " '__lt__',\n",
              " '__module__',\n",
              " '__ne__',\n",
              " '__new__']"
            ]
          },
          "metadata": {},
          "execution_count": 40
        }
      ]
    },
    {
      "cell_type": "code",
      "source": [
        "vect.vocabulary_"
      ],
      "metadata": {
        "colab": {
          "base_uri": "https://localhost:8080/"
        },
        "collapsed": true,
        "id": "3GmaFlqncdxN",
        "outputId": "29f9774b-ff1d-42b7-c35e-4c9cda4614e5"
      },
      "execution_count": 44,
      "outputs": [
        {
          "output_type": "execute_result",
          "data": {
            "text/plain": [
              "{'are': 1042,\n",
              " 'you': 7739,\n",
              " 'still': 6522,\n",
              " 'playing': 5290,\n",
              " 'with': 7577,\n",
              " 'gautham': 3093,\n",
              " 'guess': 3280,\n",
              " 'who': 7529,\n",
              " 'am': 924,\n",
              " 'this': 6892,\n",
              " 'is': 3760,\n",
              " 'the': 6852,\n",
              " 'first': 2877,\n",
              " 'time': 6941,\n",
              " 'created': 2057,\n",
              " 'web': 7457,\n",
              " 'page': 5083,\n",
              " 'www': 7672,\n",
              " 'asjesus': 1088,\n",
              " 'com': 1886,\n",
              " 'read': 5632,\n",
              " 'all': 899,\n",
              " 'wrote': 7660,\n",
              " 'waiting': 7393,\n",
              " 'for': 2944,\n",
              " 'your': 7745,\n",
              " 'opinions': 4996,\n",
              " 'want': 7412,\n",
              " 'to': 6972,\n",
              " 'be': 1266,\n",
              " 'friend': 3009,\n",
              " 'no': 4815,\n",
              " 'got': 3208,\n",
              " 'rumour': 5895,\n",
              " 'that': 6849,\n",
              " 'going': 3182,\n",
              " 'buy': 1579,\n",
              " 'apartment': 1002,\n",
              " 'in': 3655,\n",
              " 'chennai': 1761,\n",
              " 'hello': 3410,\n",
              " 'damn': 2140,\n",
              " 'christmas': 1801,\n",
              " 'thing': 6882,\n",
              " 'think': 6884,\n",
              " 'have': 3370,\n",
              " 'decided': 2194,\n",
              " 'keep': 3921,\n",
              " 'mp3': 4626,\n",
              " 'doesnt': 2380,\n",
              " 'work': 7619,\n",
              " 'well': 7487,\n",
              " 'gonna': 3192,\n",
              " 'finish': 2863,\n",
              " 'my': 4682,\n",
              " 'bath': 1240,\n",
              " 'now': 4864,\n",
              " 'good': 3193,\n",
              " 'fine': 2860,\n",
              " 'night': 4797,\n",
              " 'dear': 2185,\n",
              " 'where': 7518,\n",
              " 'call': 1607,\n",
              " 'me': 4419,\n",
              " 'wat': 7430,\n",
              " 'doing': 2391,\n",
              " 'there': 6870,\n",
              " 'so': 6319,\n",
              " 'many': 4359,\n",
              " 'people': 5181,\n",
              " 'seems': 6035,\n",
              " 'special': 6403,\n",
              " 'at': 1111,\n",
              " 'sight': 6195,\n",
              " 'but': 1575,\n",
              " 'only': 4976,\n",
              " 'very': 7306,\n",
              " 'few': 2822,\n",
              " 'will': 7550,\n",
              " 'remain': 5720,\n",
              " 'till': 6940,\n",
              " 'last': 4039,\n",
              " 'maintain': 4333,\n",
              " 'them': 6861,\n",
              " 'life': 4119,\n",
              " 'ends': 2586,\n",
              " 'sh': 6093,\n",
              " 'jas': 3810,\n",
              " 'alter': 916,\n",
              " '11': 272,\n",
              " 'ok': 4945,\n",
              " 'purity': 5538,\n",
              " 'of': 4920,\n",
              " 'friendship': 3012,\n",
              " 'between': 1330,\n",
              " 'two': 7127,\n",
              " 'not': 4849,\n",
              " 'about': 740,\n",
              " 'smiling': 6295,\n",
              " 'after': 836,\n",
              " 'reading': 5634,\n",
              " 'forwarded': 2968,\n",
              " 'message': 4468,\n",
              " 'its': 3777,\n",
              " 'just': 3888,\n",
              " 'by': 1590,\n",
              " 'seeing': 6031,\n",
              " 'name': 4701,\n",
              " 'gud': 3277,\n",
              " 'evng': 2682,\n",
              " 'nah': 4695,\n",
              " 'don': 2399,\n",
              " 'he': 3380,\n",
              " 'goes': 3178,\n",
              " 'usf': 7257,\n",
              " 'lives': 4170,\n",
              " 'around': 1064,\n",
              " 'here': 3425,\n",
              " 'though': 6903,\n",
              " 'was': 7423,\n",
              " 'actually': 789,\n",
              " 'send': 6051,\n",
              " 'reminder': 5730,\n",
              " 'today': 6979,\n",
              " 'wonderful': 7605,\n",
              " 'weekend': 7474,\n",
              " 'nice': 4789,\n",
              " 'line': 4141,\n",
              " 'said': 5921,\n",
              " 'broken': 1519,\n",
              " 'heart': 3395,\n",
              " 'plz': 5305,\n",
              " 'cum': 2099,\n",
              " 'more': 4598,\n",
              " 'times': 6942,\n",
              " 'infront': 3689,\n",
              " 'other': 5031,\n",
              " 'wise': 7568,\n",
              " 'once': 4968,\n",
              " 'again': 843,\n",
              " 'll': 4174,\n",
              " 'trust': 7087,\n",
              " '9t': 720,\n",
              " 'freemsg': 2995,\n",
              " 'claim': 1811,\n",
              " 'ur': 7233,\n",
              " '250': 364,\n",
              " 'sms': 6302,\n",
              " 'messages': 4470,\n",
              " 'text': 6825,\n",
              " '84025': 652,\n",
              " 'use': 7251,\n",
              " 'web2mobile': 7458,\n",
              " 'mates': 4393,\n",
              " 'etc': 2649,\n",
              " 'join': 3852,\n",
              " 'txt250': 7130,\n",
              " '50p': 534,\n",
              " 'wk': 7583,\n",
              " 'box139': 1454,\n",
              " 'la32wu': 4004,\n",
              " '16': 317,\n",
              " 'remove': 5734,\n",
              " 'txtx': 7140,\n",
              " 'or': 5007,\n",
              " 'stop': 6535,\n",
              " 'havent': 3373,\n",
              " 'add': 792,\n",
              " 'yet': 7725,\n",
              " 'right': 5820,\n",
              " 'sleeping': 6258,\n",
              " 'and': 953,\n",
              " 'surfing': 6662,\n",
              " 'when': 7514,\n",
              " 'wana': 7410,\n",
              " 'see': 6029,\n",
              " 'it': 3771,\n",
              " 'then': 6865,\n",
              " 'cha': 1714,\n",
              " 'quiteamuzing': 5571,\n",
              " 'scool': 5986,\n",
              " 'babe': 1184,\n",
              " 'probpop': 5472,\n",
              " 'cu': 2094,\n",
              " 'satthen': 5959,\n",
              " 'hunny': 3570,\n",
              " '4brekkie': 506,\n",
              " 'love': 4238,\n",
              " 'jen': 3825,\n",
              " 'xxx': 7688,\n",
              " 'psxtra': 5517,\n",
              " 'lrg': 4256,\n",
              " 'portions': 5356,\n",
              " 'please': 5292,\n",
              " 'free': 2989,\n",
              " '1st': 334,\n",
              " 'week': 7472,\n",
              " 'no1': 4816,\n",
              " 'nokia': 4824,\n",
              " 'tone': 7000,\n",
              " 'mob': 4556,\n",
              " 'every': 2667,\n",
              " 'txt': 7129,\n",
              " '8007': 620,\n",
              " 'get': 3127,\n",
              " 'txting': 7134,\n",
              " 'tell': 6791,\n",
              " 'getzed': 3135,\n",
              " 'co': 1854,\n",
              " 'uk': 7156,\n",
              " 'pobox': 5310,\n",
              " '36504': 447,\n",
              " 'w45wq': 7378,\n",
              " 'norm150p': 4841,\n",
              " 'into': 3727,\n",
              " 'fps': 2976,\n",
              " 'slow': 6274,\n",
              " 'using': 7259,\n",
              " 'biola': 1356,\n",
              " 'fne': 2921,\n",
              " 'plans': 5282,\n",
              " 'family': 2766,\n",
              " 'set': 6077,\n",
              " 'stone': 6531,\n",
              " 'thanks': 6842,\n",
              " 'really': 5644,\n",
              " 'appreciate': 1023,\n",
              " 'sacrifice': 5915,\n",
              " 'sure': 6659,\n",
              " 'process': 5475,\n",
              " 'direct': 2326,\n",
              " 'pay': 5154,\n",
              " 'find': 2857,\n",
              " 'out': 5040,\n",
              " 'on': 4964,\n",
              " 'way': 7443,\n",
              " 'back': 1192,\n",
              " 'from': 3027,\n",
              " 'test': 6819,\n",
              " 'tomorrow': 6998,\n",
              " 'class': 1817,\n",
              " 'do': 2366,\n",
              " 'day': 2172,\n",
              " 'yeah': 7710,\n",
              " 'unlimited': 7204,\n",
              " '07801543489': 37,\n",
              " 'guaranteed': 3275,\n",
              " 'latests': 4046,\n",
              " 'phone': 5229,\n",
              " '40gb': 475,\n",
              " 'ipod': 3749,\n",
              " 'player': 5287,\n",
              " '500': 530,\n",
              " 'prize': 5462,\n",
              " 'word': 7617,\n",
              " 'collect': 1876,\n",
              " '83355': 646,\n",
              " 'tc': 6767,\n",
              " 'llc': 4175,\n",
              " 'ny': 4892,\n",
              " 'usa': 7248,\n",
              " '150p': 308,\n",
              " 'mt': 4640,\n",
              " 'msgrcvd18': 4636,\n",
              " 'driving': 2452,\n",
              " 'reach': 5627,\n",
              " 'destination': 2264,\n",
              " 'soon': 6358,\n",
              " 'if': 3614,\n",
              " 'we': 7448,\n",
              " 'one': 4970,\n",
              " 'partnership': 5127,\n",
              " 'take': 6727,\n",
              " 'lead': 4068,\n",
              " 'helloooo': 3412,\n",
              " 'wake': 7394,\n",
              " 'up': 7215,\n",
              " 'sweet': 6688,\n",
              " 'morning': 4602,\n",
              " 'welcomes': 7486,\n",
              " 'enjoy': 2596,\n",
              " 'full': 3046,\n",
              " 'joy': 3869,\n",
              " 'mrng': 4629,\n",
              " 'anyway': 997,\n",
              " 'can': 1631,\n",
              " 'secure': 6026,\n",
              " 'anything': 994,\n",
              " 'lemme': 4091,\n",
              " 'know': 3974,\n",
              " 'drive': 2449,\n",
              " 'down': 2422,\n",
              " 'south': 6384,\n",
              " 'chill': 1781,\n",
              " 'before': 1292,\n",
              " 'noon': 4834,\n",
              " 'what': 7507,\n",
              " 'beauty': 1273,\n",
              " 'next': 4786,\n",
              " 'second': 6016,\n",
              " 'which': 7523,\n",
              " 'hides': 3440,\n",
              " 'thousands': 6906,\n",
              " 'secrets': 6022,\n",
              " 'wish': 7569,\n",
              " 'n8': 4688,\n",
              " 'house': 3531,\n",
              " 'maid': 4328,\n",
              " 'murderer': 4669,\n",
              " 'coz': 2038,\n",
              " 'man': 4345,\n",
              " 'murdered': 4668,\n",
              " 'lt': 4261,\n",
              " 'gt': 3272,\n",
              " 'th': 6837,\n",
              " 'january': 3806,\n",
              " 'as': 1079,\n",
              " 'public': 5525,\n",
              " 'holiday': 3482,\n",
              " 'govt': 3216,\n",
              " 'instituitions': 3711,\n",
              " 'closed': 1835,\n",
              " 'including': 3663,\n",
              " 'post': 5367,\n",
              " 'office': 4930,\n",
              " 'understand': 7180,\n",
              " 'why': 7537,\n",
              " 'de': 2179,\n",
              " 'looking': 4211,\n",
              " 'come': 1892,\n",
              " 'home': 3487,\n",
              " 'vl': 7350,\n",
              " 'meet': 4437,\n",
              " 'chat': 1742,\n",
              " 'mobile': 4557,\n",
              " 'number': 4879,\n",
              " 'pls': 5299,\n",
              " 'mail': 4329,\n",
              " 'id': 3602,\n",
              " 'convey': 1985,\n",
              " 'regards': 5701,\n",
              " 'achan': 770,\n",
              " 'amma': 933,\n",
              " 'rakhesh': 5596,\n",
              " 'qatar': 5551,\n",
              " 'friends': 3010,\n",
              " 'same': 5936,\n",
              " 'decimal': 2196,\n",
              " 'amp': 940,\n",
              " 'problem': 5468,\n",
              " 'cann': 1639,\n",
              " 'voice': 7354,\n",
              " 'asa': 1080,\n",
              " 'could': 2020,\n",
              " 'kiss': 3962,\n",
              " 'feel': 2805,\n",
              " '85233': 662,\n",
              " 'ringtone': 5828,\n",
              " 'reply': 5755,\n",
              " 'real': 5636,\n",
              " 'dude': 2472,\n",
              " 'sux': 6673,\n",
              " 'snake': 6308,\n",
              " 'old': 4957,\n",
              " 'raiden': 5585,\n",
              " 'buff': 1549,\n",
              " 'howz': 3542,\n",
              " 'persons': 5206,\n",
              " 'story': 6547,\n",
              " 'poem': 5323,\n",
              " 'near': 4734,\n",
              " 'hear': 3392,\n",
              " 'dont': 2403,\n",
              " 'fear': 2798,\n",
              " 'live': 4167,\n",
              " 'cheer': 1755,\n",
              " 'tear': 6777,\n",
              " 'always': 922,\n",
              " 'ni8': 4787,\n",
              " 'him': 3448,\n",
              " 'yo': 7734,\n",
              " 'any': 986,\n",
              " 'pick': 5244,\n",
              " 'something': 6342,\n",
              " 'tonight': 7006,\n",
              " 'also': 915,\n",
              " 'wan': 7409,\n",
              " 'watch': 7431,\n",
              " 'pm': 5306,\n",
              " 'show': 6170,\n",
              " 'yesterday': 7724,\n",
              " 'cbe': 1694,\n",
              " 'allo': 904,\n",
              " 'braved': 1483,\n",
              " 'buses': 1570,\n",
              " 'taken': 6729,\n",
              " 'trains': 7046,\n",
              " 'triumphed': 7078,\n",
              " 'mean': 4422,\n",
              " 're': 5626,\n",
              " 'ham': 3321,\n",
              " 'jolly': 3860,\n",
              " 'rest': 5787,\n",
              " 'cant': 1641,\n",
              " 'juz': 3893,\n",
              " 'remembered': 5724,\n",
              " 'gotta': 3213,\n",
              " 'bathe': 1241,\n",
              " 'dog': 2381,\n",
              " 'hi': 3437,\n",
              " 'baby': 1187,\n",
              " 'im': 3631,\n",
              " 'sat': 5953,\n",
              " 'bloody': 1397,\n",
              " 'bus': 1569,\n",
              " 'mo': 4554,\n",
              " 'wont': 7608,\n",
              " 'until': 7214,\n",
              " '30': 421,\n",
              " 'wanna': 7411,\n",
              " 'somethin': 6341,\n",
              " 'later': 4044,\n",
              " 'ortxt': 5027,\n",
              " 'jess': 3833,\n",
              " 'xx': 7685,\n",
              " 'uncles': 7171,\n",
              " 'atlanta': 1115,\n",
              " 'guys': 3295,\n",
              " 'great': 3244,\n",
              " 'semester': 6049,\n",
              " 'short': 6156,\n",
              " 'cute': 2119,\n",
              " 'person': 5201,\n",
              " 'try': 7090,\n",
              " 'prove': 5506,\n",
              " 'important': 3644,\n",
              " 'information': 3687,\n",
              " 'orange': 5009,\n",
              " 'user': 7255,\n",
              " 'lucky': 4266,\n",
              " '2find': 383,\n",
              " 'log': 4191,\n",
              " 'onto': 4979,\n",
              " 'http': 3550,\n",
              " 'urawinner': 7234,\n",
              " 'fantastic': 2774,\n",
              " 'surprise': 6666,\n",
              " 'awaiting': 1163,\n",
              " 'pity': 5268,\n",
              " 'mood': 4595,\n",
              " 'suggestions': 6621,\n",
              " 'won': 7601,\n",
              " '7250i': 600,\n",
              " 'win': 7552,\n",
              " 'our': 5038,\n",
              " 'auction': 1132,\n",
              " 'part': 5124,\n",
              " '86021': 665,\n",
              " 'hg': 3435,\n",
              " 'suite342': 6623,\n",
              " '2lands': 391,\n",
              " 'row': 5869,\n",
              " 'w1jhl': 7375,\n",
              " 'gosh': 3206,\n",
              " 'pain': 5086,\n",
              " 'spose': 6448,\n",
              " 'better': 1327,\n",
              " 'initiate': 3691,\n",
              " 'hey': 3433,\n",
              " 'happy': 3347,\n",
              " 'birthday': 1362,\n",
              " 'hungry': 3569,\n",
              " 'some': 6332,\n",
              " 'food': 2935,\n",
              " 'lei': 4089,\n",
              " 'mum': 4658,\n",
              " 'yun': 7761,\n",
              " 'dun': 2480,\n",
              " 'little': 4166,\n",
              " 'bit': 1364,\n",
              " 'secret': 6019,\n",
              " 'admirer': 803,\n",
              " 'make': 4336,\n",
              " 'contact': 1970,\n",
              " 'they': 6878,\n",
              " 'reveal': 5804,\n",
              " 'thinks': 6888,\n",
              " '09065171142': 219,\n",
              " 'stopsms': 6541,\n",
              " '08718727870150ppm': 148,\n",
              " 'sis': 6226,\n",
              " 'lor': 4218,\n",
              " 'watched': 7432,\n",
              " 'italian': 3772,\n",
              " 'job': 3846,\n",
              " 'lousy': 4235,\n",
              " 'sleep': 6256,\n",
              " 'kept': 3928,\n",
              " 'waking': 7395,\n",
              " 'hours': 3530,\n",
              " 'cat': 1684,\n",
              " 'wanted': 7413,\n",
              " 'worry': 7631,\n",
              " 'cold': 1871,\n",
              " 'lol': 4198,\n",
              " 'convincing': 1988,\n",
              " 'she': 6117,\n",
              " 'mind': 4499,\n",
              " 'go': 3171,\n",
              " 'bedroom': 1284,\n",
              " 'minute': 4514,\n",
              " 'sed': 6028,\n",
              " 'sexy': 6089,\n",
              " 'came': 1627,\n",
              " 'minuts': 4516,\n",
              " 'latr': 4047,\n",
              " 'wid': 7541,\n",
              " 'cake': 1599,\n",
              " 'wife': 7544,\n",
              " 'half': 3316,\n",
              " 'an': 948,\n",
              " 'hour': 3528,\n",
              " 'valentines': 7275,\n",
              " 'over': 5058,\n",
              " '1000': 261,\n",
              " 'quiz': 5573,\n",
              " 'partner': 5126,\n",
              " 'trip': 7074,\n",
              " 'lifetime': 4122,\n",
              " '83600': 650,\n",
              " 'msg': 4632,\n",
              " 'rcvd': 5623,\n",
              " 'custcare': 2112,\n",
              " '08718720201': 140,\n",
              " 'exam': 2691,\n",
              " 'february': 2802,\n",
              " 'favorite': 2794,\n",
              " 'oyster': 5075,\n",
              " 'sashimi': 5952,\n",
              " 'lar': 4032,\n",
              " 'say': 5969,\n",
              " 'already': 912,\n",
              " 'wait': 7390,\n",
              " 'stomach': 6529,\n",
              " 'start': 6486,\n",
              " 'rumbling': 5893,\n",
              " 'customer': 2114,\n",
              " 'service': 6073,\n",
              " 'annoncement': 967,\n",
              " 'new': 4777,\n",
              " 'years': 7712,\n",
              " 'delivery': 2232,\n",
              " '07046744435': 22,\n",
              " 'arrange': 1067,\n",
              " 'huh': 3559,\n",
              " 'straight': 6550,\n",
              " 'bring': 1508,\n",
              " 'bud': 1544,\n",
              " 'drinks': 2447,\n",
              " 'useful': 7253,\n",
              " 'than': 6838,\n",
              " 'cash': 1676,\n",
              " 'how': 3536,\n",
              " 'yes': 7722,\n",
              " 'watching': 7433,\n",
              " 'footie': 2941,\n",
              " 'worried': 7629,\n",
              " 'blow': 1399,\n",
              " 'phil': 5224,\n",
              " 'neville': 4775,\n",
              " 'meeting': 4439,\n",
              " 'tel': 6787,\n",
              " 'shall': 6103,\n",
              " 'care': 1655,\n",
              " 'cause': 1689,\n",
              " 'da': 2130,\n",
              " 'decision': 2197,\n",
              " 'dislikes': 2345,\n",
              " 'bed': 1281,\n",
              " 'rite': 5835,\n",
              " 'like': 4129,\n",
              " 'comin': 1897,\n",
              " 'eh': 2545,\n",
              " 'wrongly': 7659,\n",
              " 'england': 2594,\n",
              " 'macedonia': 4300,\n",
              " 'miss': 4524,\n",
              " 'goals': 3174,\n",
              " 'team': 6776,\n",
              " 'news': 4782,\n",
              " 'national': 4719,\n",
              " '87077': 672,\n",
              " 'eg': 2540,\n",
              " 'wales': 7396,\n",
              " 'scotland': 5992,\n",
              " '4txt': 522,\n",
              " 'ú1': 7776,\n",
              " '20': 342,\n",
              " 'poboxox36504w45wq': 5319,\n",
              " 'sorry': 6368,\n",
              " 'chance': 1721,\n",
              " '150': 306,\n",
              " 'worth': 7635,\n",
              " 'discount': 2341,\n",
              " 'vouchers': 7364,\n",
              " '85023': 659,\n",
              " 'savamob': 5963,\n",
              " 'member': 4451,\n",
              " 'offers': 4929,\n",
              " 'cs': 2081,\n",
              " '08717898035': 139,\n",
              " '00': 0,\n",
              " 'sub': 6591,\n",
              " 'hope': 3504,\n",
              " 'drastic': 2434,\n",
              " 'dare': 2150,\n",
              " 'sell': 6045,\n",
              " 'pc': 5164,\n",
              " 'pete': 5212,\n",
              " 'ring': 5825,\n",
              " 'meive': 4445,\n",
              " 'hardly': 3352,\n",
              " 'gotany': 3210,\n",
              " 'credit': 2060,\n",
              " 'sir': 6224,\n",
              " 'need': 4743,\n",
              " 'axis': 1174,\n",
              " 'bank': 1215,\n",
              " 'account': 766,\n",
              " 'address': 797,\n",
              " 'wen': 7490,\n",
              " 'did': 2291,\n",
              " 'spiritual': 6427,\n",
              " 'deep': 2206,\n",
              " 'free2day': 2990,\n",
              " 'st': 6465,\n",
              " 'george': 3124,\n",
              " 'pic': 5243,\n",
              " 'jordan': 3865,\n",
              " '89080': 689,\n",
              " 'saucy': 5961,\n",
              " 'celeb': 1702,\n",
              " 'pics': 5248,\n",
              " 'pocketbabe': 5320,\n",
              " '0870241182716': 84,\n",
              " 'sundayish': 6637,\n",
              " 'single': 6218,\n",
              " 'area': 1043,\n",
              " '1000s': 263,\n",
              " '62220cncl': 567,\n",
              " 'stopcs': 6538,\n",
              " '08717890890': 137,\n",
              " '50': 529,\n",
              " 'per': 5183,\n",
              " 'relatives': 5712,\n",
              " 'macha': 4301,\n",
              " 'upset': 7229,\n",
              " 'assume': 1103,\n",
              " 'mindset': 4501,\n",
              " 'believe': 1305,\n",
              " 'evening': 2661,\n",
              " 'both': 1442,\n",
              " 'us': 7247,\n",
              " 'let': 4103,\n",
              " 'begin': 1297,\n",
              " 'anytime': 996,\n",
              " 'waqt': 7417,\n",
              " 'se': 6009,\n",
              " 'pehle': 5173,\n",
              " 'naseeb': 4713,\n",
              " 'zyada': 7775,\n",
              " 'kisi': 3961,\n",
              " 'ko': 3979,\n",
              " 'kuch': 3992,\n",
              " 'nahi': 4696,\n",
              " 'milta': 4495,\n",
              " 'zindgi': 7771,\n",
              " 'wo': 7595,\n",
              " 'jo': 3844,\n",
              " 'hum': 3562,\n",
              " 'sochte': 6321,\n",
              " 'hai': 3310,\n",
              " 'jeetey': 3822,\n",
              " 'pride': 5447,\n",
              " 'almost': 908,\n",
              " 'shouldn': 6165,\n",
              " 'takin': 6731,\n",
              " 'money': 4582,\n",
              " 'kid': 3944,\n",
              " 'supposed': 6656,\n",
              " 'deal': 2181,\n",
              " 'stuff': 6580,\n",
              " 'grownup': 3266,\n",
              " 'hmmm': 3468,\n",
              " 'players': 5288,\n",
              " 'selected': 6041,\n",
              " 'collecting': 1878,\n",
              " 'laptop': 4031,\n",
              " 'configure': 1946,\n",
              " 'settings': 6079,\n",
              " 'izzit': 3788,\n",
              " 'yep': 7720,\n",
              " 'loxahatchee': 4253,\n",
              " 'xmas': 7681,\n",
              " 'tree': 7070,\n",
              " 'burning': 1566,\n",
              " 'starts': 6489,\n",
              " 'model': 4568,\n",
              " 'sony': 6355,\n",
              " 'ericson': 2626,\n",
              " 'der': 2251,\n",
              " 'luks': 4268,\n",
              " 'bt': 1538,\n",
              " 'forgot': 2955,\n",
              " 'modl': 4569,\n",
              " 'mm': 4544,\n",
              " 'asked': 1091,\n",
              " 'radio': 5582,\n",
              " 'ello': 2563,\n",
              " 'wasn': 7425,\n",
              " 'too': 7010,\n",
              " 'bad': 1195,\n",
              " 'been': 1287,\n",
              " 'quite': 5570,\n",
              " 'reality': 5640,\n",
              " 'check': 1750,\n",
              " 'hows': 3540,\n",
              " 'website': 7462,\n",
              " 'brand': 1479,\n",
              " '7250': 599,\n",
              " 'ask': 1089,\n",
              " 'lect': 4080,\n",
              " 'cos': 2009,\n",
              " 'finishes': 2866,\n",
              " 'small': 6280,\n",
              " 'boost': 1430,\n",
              " 'energy': 2589,\n",
              " 'working': 7623,\n",
              " 'sent': 6060,\n",
              " 'type': 7142,\n",
              " 'freephone': 2996,\n",
              " '0800': 48,\n",
              " '542': 548,\n",
              " '0578': 18,\n",
              " 'never': 4773,\n",
              " 'blame': 1376,\n",
              " 'days': 2173,\n",
              " 'give': 3153,\n",
              " 'happiness': 3346,\n",
              " 'experience': 2714,\n",
              " 'essential': 2647,\n",
              " 'gods': 3177,\n",
              " 'blessings': 1387,\n",
              " 'calling': 1620,\n",
              " 'everyone': 2672,\n",
              " 'saying': 5971,\n",
              " 'might': 4487,\n",
              " 'cancer': 1637,\n",
              " 'throat': 6913,\n",
              " 'hurts': 3578,\n",
              " 'talk': 6735,\n",
              " 'answering': 980,\n",
              " 'everyones': 2673,\n",
              " 'calls': 1622,\n",
              " 'babysitting': 1191,\n",
              " 'monday': 4580,\n",
              " 'tunde': 7109,\n",
              " 'wishing': 7573,\n",
              " 'abiola': 736,\n",
              " 'bye': 1592,\n",
              " 'attended': 1125,\n",
              " 'nothing': 4854,\n",
              " 'rooms': 5861,\n",
              " 'befor': 1291,\n",
              " 'activities': 786,\n",
              " '09058094565': 181,\n",
              " 'tv': 7117,\n",
              " '08718738034': 152,\n",
              " 'cool': 1993,\n",
              " 'swimming': 6695,\n",
              " 'pool': 5344,\n",
              " 'jacuzzi': 3795,\n",
              " 've': 7293,\n",
              " 'sorta': 6370,\n",
              " 'blown': 1401,\n",
              " 'off': 4922,\n",
              " 'couple': 2029,\n",
              " 'recently': 5666,\n",
              " 'rather': 5612,\n",
              " 'blue': 1403,\n",
              " 'weed': 7471,\n",
              " 'rayan': 5617,\n",
              " 'macleran': 4307,\n",
              " 'dump': 2479,\n",
              " 'heap': 3391,\n",
              " 'mom': 4575,\n",
              " 'lowes': 4252,\n",
              " 'boring': 1436,\n",
              " 'google': 3204,\n",
              " 'search': 6011,\n",
              " 'qet': 5552,\n",
              " 'piece': 5252,\n",
              " 'jurong': 3886,\n",
              " 'point': 5324,\n",
              " 'crazy': 2054,\n",
              " 'available': 1149,\n",
              " 'bugis': 1552,\n",
              " 'world': 7626,\n",
              " 'la': 4002,\n",
              " 'buffet': 1550,\n",
              " 'cine': 1806,\n",
              " 'amore': 938,\n",
              " 'clearly': 1828,\n",
              " 'leave': 4077,\n",
              " 'her': 3424,\n",
              " 'pickle': 5247,\n",
              " 'says': 5972,\n",
              " 'ass': 1098,\n",
              " 'tampa': 6744,\n",
              " 'preferably': 5416,\n",
              " 'kegger': 3924,\n",
              " 'theory': 6867,\n",
              " 'argument': 1052,\n",
              " 'wins': 7563,\n",
              " 'situation': 6233,\n",
              " 'loses': 4222,\n",
              " 'argue': 1050,\n",
              " 'kick': 3940,\n",
              " 'correct': 2005,\n",
              " 'okie': 4950,\n",
              " 'thanx': 6846,\n",
              " 'dudette': 2474,\n",
              " 'missing': 4528,\n",
              " 'arnt': 1063,\n",
              " 'pissed': 5266,\n",
              " 'would': 7641,\n",
              " 'xxxxxxxxxxxxxx': 7695,\n",
              " 'tuesday': 7104,\n",
              " 'those': 6900,\n",
              " 'were': 7494,\n",
              " 'exact': 2689,\n",
              " 'intentions': 3717,\n",
              " 'o2': 4899,\n",
              " 'pounds': 5380,\n",
              " 'details': 2267,\n",
              " 'valid': 7276,\n",
              " 'postcode': 5370,\n",
              " 'much': 4650,\n",
              " 'image': 3632,\n",
              " 'blank': 1377,\n",
              " 'library': 4113,\n",
              " 'invention': 3731,\n",
              " 'fly': 2916,\n",
              " 'joking': 3859,\n",
              " 'pathaya': 5145,\n",
              " 'enketa': 2600,\n",
              " 'maraikara': 4363,\n",
              " 'pa': 5077,\n",
              " 'whatever': 7508,\n",
              " 'whats': 7509,\n",
              " 'plan': 5276,\n",
              " 'rubber': 5885,\n",
              " 'place': 5271,\n",
              " 'cozy': 2039,\n",
              " 'exhausted': 2705,\n",
              " 'nobody': 4818,\n",
              " 'went': 7492,\n",
              " 'school': 5982,\n",
              " 'everything': 2676,\n",
              " 'stil': 6521,\n",
              " 'fucked': 3036,\n",
              " 'nite': 4809,\n",
              " 'tobed': 6976,\n",
              " '430': 483,\n",
              " '630': 569,\n",
              " 'dad': 2134,\n",
              " 'oredi': 5017,\n",
              " 'worse': 7633,\n",
              " 'uses': 7256,\n",
              " 'stops': 6540,\n",
              " 'complete': 1919,\n",
              " 'had': 3306,\n",
              " 'months': 4594,\n",
              " 'entitled': 2612,\n",
              " 'update': 7220,\n",
              " 'latest': 4045,\n",
              " 'colour': 1883,\n",
              " 'mobiles': 4558,\n",
              " 'camera': 1628,\n",
              " '08002986030': 56,\n",
              " 'oh': 4940,\n",
              " 'most': 4607,\n",
              " 'wi': 7538,\n",
              " 'nz': 4897,\n",
              " 'unsold': 7211,\n",
              " 'grandmas': 3231,\n",
              " 'ill': 3627,\n",
              " 'felt': 2815,\n",
              " 'shit': 6138,\n",
              " 'hungover': 3568,\n",
              " 'another': 974,\n",
              " 'poor': 5346,\n",
              " 'zac': 7765,\n",
              " 'doesn': 2379,\n",
              " 'stand': 6477,\n",
              " 'phoned': 5232,\n",
              " 'disconnected': 2340,\n",
              " 'official': 4932,\n",
              " 'poly': 5332,\n",
              " 'flag': 2888,\n",
              " 'yer': 7721,\n",
              " 'tonights': 7007,\n",
              " 'game': 3075,\n",
              " '84199': 655,\n",
              " 'optout': 5006,\n",
              " 'eng': 2590,\n",
              " 'box39822': 1460,\n",
              " 'w111wx': 7371,\n",
              " 'barely': 1224,\n",
              " 'stay': 6497,\n",
              " 'sane': 5939,\n",
              " 'fighting': 2837,\n",
              " 'constantly': 1969,\n",
              " 'isn': 3766,\n",
              " 'helping': 3417,\n",
              " 'lets': 4104,\n",
              " 'thank': 6841,\n",
              " 'god': 3176,\n",
              " 'drug': 2459,\n",
              " 'lots': 4228,\n",
              " 'water': 7435,\n",
              " 'beautiful': 1272,\n",
              " 'lunch': 4270,\n",
              " 'aha': 856,\n",
              " 'done': 2401,\n",
              " 'space': 6389,\n",
              " 'gives': 3155,\n",
              " 'remember': 5723,\n",
              " 'furniture': 3057,\n",
              " 'yours': 7748,\n",
              " 'move': 4619,\n",
              " 'lock': 4188,\n",
              " 'locks': 4189,\n",
              " 'key': 3933,\n",
              " 'jenne': 3826,\n",
              " 'ready': 5635,\n",
              " 'inches': 3659,\n",
              " 'pleasure': 5294,\n",
              " 'hmm': 3467,\n",
              " 'forgiven': 2953,\n",
              " 'happen': 3338,\n",
              " 'truth': 7089,\n",
              " 'voicemail': 7355,\n",
              " '08719181513': 157,\n",
              " 'carlos': 1667,\n",
              " 'mu': 4648,\n",
              " 'minutes': 4515,\n",
              " 'hahaha': 3309,\n",
              " 'brain': 1475,\n",
              " 'haha': 3308,\n",
              " 'oz': 5076,\n",
              " 'kind': 3954,\n",
              " 'shitload': 6142,\n",
              " 'doctor': 2373,\n",
              " 'girl': 3147,\n",
              " 'lady': 4010,\n",
              " 'outside': 5051,\n",
              " 'called': 1614,\n",
              " 'neshanth': 4762,\n",
              " 'princess': 5451,\n",
              " 'tallent': 6742,\n",
              " 'wasting': 7429,\n",
              " 'jot': 3867,\n",
              " 'things': 6883,\n",
              " 'without': 7579,\n",
              " 'big': 1344,\n",
              " 'sale': 5926,\n",
              " 'together': 6983,\n",
              " 'prepare': 5421,\n",
              " 'pounded': 5379,\n",
              " 'subscription': 6602,\n",
              " 'charged': 1732,\n",
              " 'month': 4591,\n",
              " 'confirm': 1947,\n",
              " 'replying': 5756,\n",
              " 'thats': 6851,\n",
              " 'eat': 2512,\n",
              " 'under': 7178,\n",
              " 'sea': 6010,\n",
              " 'lays': 4060,\n",
              " 'rock': 5844,\n",
              " 'envelope': 2618,\n",
              " 'paper': 5105,\n",
              " 'words': 7618,\n",
              " 'living': 4171,\n",
              " 'simple': 6209,\n",
              " 'loving': 4247,\n",
              " 'laughing': 4050,\n",
              " 'winning': 7562,\n",
              " 'tooo': 7014,\n",
              " ...}"
            ]
          },
          "metadata": {},
          "execution_count": 44
        }
      ]
    },
    {
      "cell_type": "code",
      "source": [
        "vect.get_feature_names_out()[3456]"
      ],
      "metadata": {
        "colab": {
          "base_uri": "https://localhost:8080/",
          "height": 35
        },
        "id": "L3L4upX8dKae",
        "outputId": "06b56058-8a31-4c1c-986b-5a8538264370"
      },
      "execution_count": 45,
      "outputs": [
        {
          "output_type": "execute_result",
          "data": {
            "text/plain": [
              "'hitler'"
            ],
            "application/vnd.google.colaboratory.intrinsic+json": {
              "type": "string"
            }
          },
          "metadata": {},
          "execution_count": 45
        }
      ]
    },
    {
      "cell_type": "code",
      "source": [
        "# get_feature_names_out is a numpy array that contain all words\n",
        "vect.get_feature_names_out().shape"
      ],
      "metadata": {
        "colab": {
          "base_uri": "https://localhost:8080/"
        },
        "id": "e_FLAF_ZcRVl",
        "outputId": "e4951ce8-e1f9-49b1-a3dc-24672a73a8b4"
      },
      "execution_count": 41,
      "outputs": [
        {
          "output_type": "execute_result",
          "data": {
            "text/plain": [
              "(7778,)"
            ]
          },
          "metadata": {},
          "execution_count": 41
        }
      ]
    },
    {
      "cell_type": "code",
      "source": [
        "vect.get_feature_names_out()[1000:1100]"
      ],
      "metadata": {
        "colab": {
          "base_uri": "https://localhost:8080/"
        },
        "id": "dJH3UPz0bK0K",
        "outputId": "9eec67f8-d1c7-4990-9259-98d1dae62cd1"
      },
      "execution_count": 31,
      "outputs": [
        {
          "output_type": "execute_result",
          "data": {
            "text/plain": [
              "array(['aom', 'apart', 'apartment', 'apes', 'apeshit', 'aphex', 'apnt',\n",
              "       'apo', 'apologetic', 'apologise', 'apologize', 'app', 'apparently',\n",
              "       'appeal', 'appear', 'applausestore', 'applebees', 'apples',\n",
              "       'application', 'apply', 'applyed', 'applying', 'appointment',\n",
              "       'appreciate', 'appreciated', 'approaches', 'approaching',\n",
              "       'appropriate', 'approve', 'approved', 'approx', 'apps', 'appt',\n",
              "       'april', 'aproach', 'aptitude', 'aquarius', 'ar', 'arab', 'arcade',\n",
              "       'archive', 'ard', 'are', 'area', 'aren', 'arent', 'aretaking',\n",
              "       'areyouunique', 'argentina', 'argh', 'argue', 'arguing',\n",
              "       'argument', 'aries', 'arise', 'arises', 'arithmetic', 'arm',\n",
              "       'armand', 'armenia', 'arms', 'arng', 'arngd', 'arnt', 'around',\n",
              "       'aroundn', 'arr', 'arrange', 'arrested', 'arrival', 'arrive',\n",
              "       'arrow', 'arsenal', 'art', 'artists', 'arts', 'arty', 'arul',\n",
              "       'arun', 'as', 'asa', 'asap', 'asda', 'ashes', 'ashley', 'ashwini',\n",
              "       'asia', 'asian', 'asjesus', 'ask', 'askd', 'asked', 'askin',\n",
              "       'asking', 'asks', 'aslamalaikkum', 'asleep', 'asp', 'ass',\n",
              "       'asshole'], dtype=object)"
            ]
          },
          "metadata": {},
          "execution_count": 31
        }
      ]
    },
    {
      "cell_type": "code",
      "source": [
        "X_train_np = X_train_csv.toarray()\n",
        "X_train_np"
      ],
      "metadata": {
        "colab": {
          "base_uri": "https://localhost:8080/"
        },
        "id": "LdOLl043blgG",
        "outputId": "8988bc6b-1cdc-4f16-b8de-5fb37e82b6ab"
      },
      "execution_count": 49,
      "outputs": [
        {
          "output_type": "execute_result",
          "data": {
            "text/plain": [
              "array([[0, 0, 0, ..., 0, 0, 0],\n",
              "       [0, 0, 0, ..., 0, 0, 0],\n",
              "       [0, 0, 0, ..., 0, 0, 0],\n",
              "       ...,\n",
              "       [0, 0, 0, ..., 0, 0, 0],\n",
              "       [0, 0, 0, ..., 0, 0, 0],\n",
              "       [0, 0, 0, ..., 0, 0, 0]])"
            ]
          },
          "metadata": {},
          "execution_count": 49
        }
      ]
    },
    {
      "cell_type": "markdown",
      "source": [],
      "metadata": {
        "id": "PXZpZhdLlaGi"
      }
    },
    {
      "cell_type": "code",
      "source": [
        "# want to where numpy not equl to zero\n",
        "np.where(X_train_np[0]!=0)"
      ],
      "metadata": {
        "colab": {
          "base_uri": "https://localhost:8080/"
        },
        "id": "cOFKWWyFj_B7",
        "outputId": "6da01a6e-1550-4fd4-a294-9c46faddbd7c"
      },
      "execution_count": 50,
      "outputs": [
        {
          "output_type": "execute_result",
          "data": {
            "text/plain": [
              "(array([1042, 3093, 5290, 6522, 7577, 7739]),)"
            ]
          },
          "metadata": {},
          "execution_count": 50
        }
      ]
    },
    {
      "cell_type": "code",
      "source": [
        "X_train_np[0][1042]"
      ],
      "metadata": {
        "colab": {
          "base_uri": "https://localhost:8080/"
        },
        "id": "HvrDXK_JkxG2",
        "outputId": "d7a2ca83-ba0a-446b-8f6e-92568b35ea0c"
      },
      "execution_count": 51,
      "outputs": [
        {
          "output_type": "execute_result",
          "data": {
            "text/plain": [
              "1"
            ]
          },
          "metadata": {},
          "execution_count": 51
        }
      ]
    },
    {
      "cell_type": "code",
      "source": [
        "from sklearn.naive_bayes import MultinomialNB\n",
        "\n",
        "model = MultinomialNB()\n",
        "model.fit(X_train_csv, y_train)\n"
      ],
      "metadata": {
        "colab": {
          "base_uri": "https://localhost:8080/",
          "height": 75
        },
        "id": "hyfiWZDMk11T",
        "outputId": "b0abb348-8cb9-4a3d-9a52-f5a139ed334e"
      },
      "execution_count": 57,
      "outputs": [
        {
          "output_type": "execute_result",
          "data": {
            "text/plain": [
              "MultinomialNB()"
            ],
            "text/html": [
              "<style>#sk-container-id-2 {color: black;}#sk-container-id-2 pre{padding: 0;}#sk-container-id-2 div.sk-toggleable {background-color: white;}#sk-container-id-2 label.sk-toggleable__label {cursor: pointer;display: block;width: 100%;margin-bottom: 0;padding: 0.3em;box-sizing: border-box;text-align: center;}#sk-container-id-2 label.sk-toggleable__label-arrow:before {content: \"▸\";float: left;margin-right: 0.25em;color: #696969;}#sk-container-id-2 label.sk-toggleable__label-arrow:hover:before {color: black;}#sk-container-id-2 div.sk-estimator:hover label.sk-toggleable__label-arrow:before {color: black;}#sk-container-id-2 div.sk-toggleable__content {max-height: 0;max-width: 0;overflow: hidden;text-align: left;background-color: #f0f8ff;}#sk-container-id-2 div.sk-toggleable__content pre {margin: 0.2em;color: black;border-radius: 0.25em;background-color: #f0f8ff;}#sk-container-id-2 input.sk-toggleable__control:checked~div.sk-toggleable__content {max-height: 200px;max-width: 100%;overflow: auto;}#sk-container-id-2 input.sk-toggleable__control:checked~label.sk-toggleable__label-arrow:before {content: \"▾\";}#sk-container-id-2 div.sk-estimator input.sk-toggleable__control:checked~label.sk-toggleable__label {background-color: #d4ebff;}#sk-container-id-2 div.sk-label input.sk-toggleable__control:checked~label.sk-toggleable__label {background-color: #d4ebff;}#sk-container-id-2 input.sk-hidden--visually {border: 0;clip: rect(1px 1px 1px 1px);clip: rect(1px, 1px, 1px, 1px);height: 1px;margin: -1px;overflow: hidden;padding: 0;position: absolute;width: 1px;}#sk-container-id-2 div.sk-estimator {font-family: monospace;background-color: #f0f8ff;border: 1px dotted black;border-radius: 0.25em;box-sizing: border-box;margin-bottom: 0.5em;}#sk-container-id-2 div.sk-estimator:hover {background-color: #d4ebff;}#sk-container-id-2 div.sk-parallel-item::after {content: \"\";width: 100%;border-bottom: 1px solid gray;flex-grow: 1;}#sk-container-id-2 div.sk-label:hover label.sk-toggleable__label {background-color: #d4ebff;}#sk-container-id-2 div.sk-serial::before {content: \"\";position: absolute;border-left: 1px solid gray;box-sizing: border-box;top: 0;bottom: 0;left: 50%;z-index: 0;}#sk-container-id-2 div.sk-serial {display: flex;flex-direction: column;align-items: center;background-color: white;padding-right: 0.2em;padding-left: 0.2em;position: relative;}#sk-container-id-2 div.sk-item {position: relative;z-index: 1;}#sk-container-id-2 div.sk-parallel {display: flex;align-items: stretch;justify-content: center;background-color: white;position: relative;}#sk-container-id-2 div.sk-item::before, #sk-container-id-2 div.sk-parallel-item::before {content: \"\";position: absolute;border-left: 1px solid gray;box-sizing: border-box;top: 0;bottom: 0;left: 50%;z-index: -1;}#sk-container-id-2 div.sk-parallel-item {display: flex;flex-direction: column;z-index: 1;position: relative;background-color: white;}#sk-container-id-2 div.sk-parallel-item:first-child::after {align-self: flex-end;width: 50%;}#sk-container-id-2 div.sk-parallel-item:last-child::after {align-self: flex-start;width: 50%;}#sk-container-id-2 div.sk-parallel-item:only-child::after {width: 0;}#sk-container-id-2 div.sk-dashed-wrapped {border: 1px dashed gray;margin: 0 0.4em 0.5em 0.4em;box-sizing: border-box;padding-bottom: 0.4em;background-color: white;}#sk-container-id-2 div.sk-label label {font-family: monospace;font-weight: bold;display: inline-block;line-height: 1.2em;}#sk-container-id-2 div.sk-label-container {text-align: center;}#sk-container-id-2 div.sk-container {/* jupyter's `normalize.less` sets `[hidden] { display: none; }` but bootstrap.min.css set `[hidden] { display: none !important; }` so we also need the `!important` here to be able to override the default hidden behavior on the sphinx rendered scikit-learn.org. See: https://github.com/scikit-learn/scikit-learn/issues/21755 */display: inline-block !important;position: relative;}#sk-container-id-2 div.sk-text-repr-fallback {display: none;}</style><div id=\"sk-container-id-2\" class=\"sk-top-container\"><div class=\"sk-text-repr-fallback\"><pre>MultinomialNB()</pre><b>In a Jupyter environment, please rerun this cell to show the HTML representation or trust the notebook. <br />On GitHub, the HTML representation is unable to render, please try loading this page with nbviewer.org.</b></div><div class=\"sk-container\" hidden><div class=\"sk-item\"><div class=\"sk-estimator sk-toggleable\"><input class=\"sk-toggleable__control sk-hidden--visually\" id=\"sk-estimator-id-2\" type=\"checkbox\" checked><label for=\"sk-estimator-id-2\" class=\"sk-toggleable__label sk-toggleable__label-arrow\">MultinomialNB</label><div class=\"sk-toggleable__content\"><pre>MultinomialNB()</pre></div></div></div></div></div>"
            ]
          },
          "metadata": {},
          "execution_count": 57
        }
      ]
    },
    {
      "cell_type": "code",
      "source": [
        "X_test_csv = vect.transform(X_test)"
      ],
      "metadata": {
        "id": "-AICcQbvleW_"
      },
      "execution_count": 58,
      "outputs": []
    },
    {
      "cell_type": "code",
      "source": [
        "from sklearn.metrics import classification_report\n",
        "y_pred = model.predict(X_test_csv)\n",
        "print(classification_report(y_test, y_pred))"
      ],
      "metadata": {
        "colab": {
          "base_uri": "https://localhost:8080/"
        },
        "id": "INwLsOM-lrHQ",
        "outputId": "3d57c939-c087-44a4-d861-12140b2730b4"
      },
      "execution_count": 60,
      "outputs": [
        {
          "output_type": "stream",
          "name": "stdout",
          "text": [
            "              precision    recall  f1-score   support\n",
            "\n",
            "           0       0.99      1.00      0.99       964\n",
            "           1       0.98      0.93      0.96       151\n",
            "\n",
            "    accuracy                           0.99      1115\n",
            "   macro avg       0.98      0.97      0.97      1115\n",
            "weighted avg       0.99      0.99      0.99      1115\n",
            "\n"
          ]
        }
      ]
    },
    {
      "cell_type": "code",
      "source": [
        "email =[\n",
        "    \"Does uncle timi help in clearing cars\",\n",
        "    \"I came hostel. I m going to sleep. Plz call me up before class. Hrishi.\",\n",
        "    '07732584351 - Rodger Burns - MSG = We tried to call you re your reply to our sms for a free nokia mobile + free camcorder. Please call now 08000930705 for delivery tomorrow'\n",
        "]\n",
        "\n",
        "email_count = vect.transform(email)\n",
        "model.predict(email_count)"
      ],
      "metadata": {
        "colab": {
          "base_uri": "https://localhost:8080/"
        },
        "id": "22jPWtctmHgz",
        "outputId": "8b2cd8e8-d146-41c6-8c99-e5b21ec86fd1"
      },
      "execution_count": 61,
      "outputs": [
        {
          "output_type": "execute_result",
          "data": {
            "text/plain": [
              "array([0, 0, 1])"
            ]
          },
          "metadata": {},
          "execution_count": 61
        }
      ]
    },
    {
      "cell_type": "code",
      "source": [],
      "metadata": {
        "id": "bhjLLuwqoyD4"
      },
      "execution_count": null,
      "outputs": []
    },
    {
      "cell_type": "markdown",
      "source": [
        "## Interpretation: array([0, 0, 1])\n",
        "\n",
        "0 is not spam\n",
        "\n",
        "0 is not spam\n",
        "\n",
        "1  is a spam"
      ],
      "metadata": {
        "id": "0sCo6T5vpwUA"
      }
    },
    {
      "cell_type": "markdown",
      "source": [
        "### Pipeline"
      ],
      "metadata": {
        "id": "6VhvaR8xrPYR"
      }
    },
    {
      "cell_type": "code",
      "source": [
        "from sklearn.pipeline import Pipeline\n",
        "\n",
        "clf = Pipeline([\n",
        "    ('vectorizer', CountVectorizer()),\n",
        "    ('nb', MultinomialNB())\n",
        "])"
      ],
      "metadata": {
        "id": "ZUt7VAx_rXml"
      },
      "execution_count": 63,
      "outputs": []
    },
    {
      "cell_type": "code",
      "source": [
        "clf.fit(X_train, y_train)"
      ],
      "metadata": {
        "colab": {
          "base_uri": "https://localhost:8080/",
          "height": 126
        },
        "id": "ADEKywvMrZSi",
        "outputId": "9f6a5301-a008-4173-e197-839f638d98f4"
      },
      "execution_count": 64,
      "outputs": [
        {
          "output_type": "execute_result",
          "data": {
            "text/plain": [
              "Pipeline(steps=[('vectorizer', CountVectorizer()), ('nb', MultinomialNB())])"
            ],
            "text/html": [
              "<style>#sk-container-id-3 {color: black;}#sk-container-id-3 pre{padding: 0;}#sk-container-id-3 div.sk-toggleable {background-color: white;}#sk-container-id-3 label.sk-toggleable__label {cursor: pointer;display: block;width: 100%;margin-bottom: 0;padding: 0.3em;box-sizing: border-box;text-align: center;}#sk-container-id-3 label.sk-toggleable__label-arrow:before {content: \"▸\";float: left;margin-right: 0.25em;color: #696969;}#sk-container-id-3 label.sk-toggleable__label-arrow:hover:before {color: black;}#sk-container-id-3 div.sk-estimator:hover label.sk-toggleable__label-arrow:before {color: black;}#sk-container-id-3 div.sk-toggleable__content {max-height: 0;max-width: 0;overflow: hidden;text-align: left;background-color: #f0f8ff;}#sk-container-id-3 div.sk-toggleable__content pre {margin: 0.2em;color: black;border-radius: 0.25em;background-color: #f0f8ff;}#sk-container-id-3 input.sk-toggleable__control:checked~div.sk-toggleable__content {max-height: 200px;max-width: 100%;overflow: auto;}#sk-container-id-3 input.sk-toggleable__control:checked~label.sk-toggleable__label-arrow:before {content: \"▾\";}#sk-container-id-3 div.sk-estimator input.sk-toggleable__control:checked~label.sk-toggleable__label {background-color: #d4ebff;}#sk-container-id-3 div.sk-label input.sk-toggleable__control:checked~label.sk-toggleable__label {background-color: #d4ebff;}#sk-container-id-3 input.sk-hidden--visually {border: 0;clip: rect(1px 1px 1px 1px);clip: rect(1px, 1px, 1px, 1px);height: 1px;margin: -1px;overflow: hidden;padding: 0;position: absolute;width: 1px;}#sk-container-id-3 div.sk-estimator {font-family: monospace;background-color: #f0f8ff;border: 1px dotted black;border-radius: 0.25em;box-sizing: border-box;margin-bottom: 0.5em;}#sk-container-id-3 div.sk-estimator:hover {background-color: #d4ebff;}#sk-container-id-3 div.sk-parallel-item::after {content: \"\";width: 100%;border-bottom: 1px solid gray;flex-grow: 1;}#sk-container-id-3 div.sk-label:hover label.sk-toggleable__label {background-color: #d4ebff;}#sk-container-id-3 div.sk-serial::before {content: \"\";position: absolute;border-left: 1px solid gray;box-sizing: border-box;top: 0;bottom: 0;left: 50%;z-index: 0;}#sk-container-id-3 div.sk-serial {display: flex;flex-direction: column;align-items: center;background-color: white;padding-right: 0.2em;padding-left: 0.2em;position: relative;}#sk-container-id-3 div.sk-item {position: relative;z-index: 1;}#sk-container-id-3 div.sk-parallel {display: flex;align-items: stretch;justify-content: center;background-color: white;position: relative;}#sk-container-id-3 div.sk-item::before, #sk-container-id-3 div.sk-parallel-item::before {content: \"\";position: absolute;border-left: 1px solid gray;box-sizing: border-box;top: 0;bottom: 0;left: 50%;z-index: -1;}#sk-container-id-3 div.sk-parallel-item {display: flex;flex-direction: column;z-index: 1;position: relative;background-color: white;}#sk-container-id-3 div.sk-parallel-item:first-child::after {align-self: flex-end;width: 50%;}#sk-container-id-3 div.sk-parallel-item:last-child::after {align-self: flex-start;width: 50%;}#sk-container-id-3 div.sk-parallel-item:only-child::after {width: 0;}#sk-container-id-3 div.sk-dashed-wrapped {border: 1px dashed gray;margin: 0 0.4em 0.5em 0.4em;box-sizing: border-box;padding-bottom: 0.4em;background-color: white;}#sk-container-id-3 div.sk-label label {font-family: monospace;font-weight: bold;display: inline-block;line-height: 1.2em;}#sk-container-id-3 div.sk-label-container {text-align: center;}#sk-container-id-3 div.sk-container {/* jupyter's `normalize.less` sets `[hidden] { display: none; }` but bootstrap.min.css set `[hidden] { display: none !important; }` so we also need the `!important` here to be able to override the default hidden behavior on the sphinx rendered scikit-learn.org. See: https://github.com/scikit-learn/scikit-learn/issues/21755 */display: inline-block !important;position: relative;}#sk-container-id-3 div.sk-text-repr-fallback {display: none;}</style><div id=\"sk-container-id-3\" class=\"sk-top-container\"><div class=\"sk-text-repr-fallback\"><pre>Pipeline(steps=[(&#x27;vectorizer&#x27;, CountVectorizer()), (&#x27;nb&#x27;, MultinomialNB())])</pre><b>In a Jupyter environment, please rerun this cell to show the HTML representation or trust the notebook. <br />On GitHub, the HTML representation is unable to render, please try loading this page with nbviewer.org.</b></div><div class=\"sk-container\" hidden><div class=\"sk-item sk-dashed-wrapped\"><div class=\"sk-label-container\"><div class=\"sk-label sk-toggleable\"><input class=\"sk-toggleable__control sk-hidden--visually\" id=\"sk-estimator-id-3\" type=\"checkbox\" ><label for=\"sk-estimator-id-3\" class=\"sk-toggleable__label sk-toggleable__label-arrow\">Pipeline</label><div class=\"sk-toggleable__content\"><pre>Pipeline(steps=[(&#x27;vectorizer&#x27;, CountVectorizer()), (&#x27;nb&#x27;, MultinomialNB())])</pre></div></div></div><div class=\"sk-serial\"><div class=\"sk-item\"><div class=\"sk-estimator sk-toggleable\"><input class=\"sk-toggleable__control sk-hidden--visually\" id=\"sk-estimator-id-4\" type=\"checkbox\" ><label for=\"sk-estimator-id-4\" class=\"sk-toggleable__label sk-toggleable__label-arrow\">CountVectorizer</label><div class=\"sk-toggleable__content\"><pre>CountVectorizer()</pre></div></div></div><div class=\"sk-item\"><div class=\"sk-estimator sk-toggleable\"><input class=\"sk-toggleable__control sk-hidden--visually\" id=\"sk-estimator-id-5\" type=\"checkbox\" ><label for=\"sk-estimator-id-5\" class=\"sk-toggleable__label sk-toggleable__label-arrow\">MultinomialNB</label><div class=\"sk-toggleable__content\"><pre>MultinomialNB()</pre></div></div></div></div></div></div></div>"
            ]
          },
          "metadata": {},
          "execution_count": 64
        }
      ]
    },
    {
      "cell_type": "code",
      "source": [
        "y_pred = clf.predict(X_test)\n",
        "\n",
        "print(classification_report(y_test, y_pred))"
      ],
      "metadata": {
        "colab": {
          "base_uri": "https://localhost:8080/"
        },
        "id": "WVG18r91rg4H",
        "outputId": "a424cee6-1151-4ff9-c4a8-90852ab0c83a"
      },
      "execution_count": 65,
      "outputs": [
        {
          "output_type": "stream",
          "name": "stdout",
          "text": [
            "              precision    recall  f1-score   support\n",
            "\n",
            "           0       0.99      1.00      0.99       964\n",
            "           1       0.98      0.93      0.96       151\n",
            "\n",
            "    accuracy                           0.99      1115\n",
            "   macro avg       0.98      0.97      0.97      1115\n",
            "weighted avg       0.99      0.99      0.99      1115\n",
            "\n"
          ]
        }
      ]
    },
    {
      "cell_type": "code",
      "source": [],
      "metadata": {
        "id": "8MKA6eBFriQi"
      },
      "execution_count": null,
      "outputs": []
    }
  ]
}